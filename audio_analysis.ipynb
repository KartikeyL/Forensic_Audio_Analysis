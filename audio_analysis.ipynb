{
 "cells": [
  {
   "cell_type": "markdown",
   "metadata": {},
   "source": [
    "Dataset Preprocessing & Feature Extraction"
   ]
  },
  {
   "cell_type": "code",
   "execution_count": 18,
   "metadata": {},
   "outputs": [
    {
     "name": "stdout",
     "output_type": "stream",
     "text": [
      "Requirement already satisfied: torchaudio in /opt/homebrew/anaconda3/envs/myenv/lib/python3.11/site-packages (2.6.0)\n",
      "Requirement already satisfied: librosa in /opt/homebrew/anaconda3/envs/myenv/lib/python3.11/site-packages (0.10.2.post1)\n",
      "Requirement already satisfied: transformers in /opt/homebrew/anaconda3/envs/myenv/lib/python3.11/site-packages (4.48.3)\n",
      "Requirement already satisfied: datasets in /opt/homebrew/anaconda3/envs/myenv/lib/python3.11/site-packages (3.3.0)\n",
      "Requirement already satisfied: torch in /opt/homebrew/anaconda3/envs/myenv/lib/python3.11/site-packages (2.6.0)\n",
      "Requirement already satisfied: torchvision in /opt/homebrew/anaconda3/envs/myenv/lib/python3.11/site-packages (0.21.0)\n",
      "Requirement already satisfied: filelock in /opt/homebrew/anaconda3/envs/myenv/lib/python3.11/site-packages (from torch) (3.17.0)\n",
      "Requirement already satisfied: typing-extensions>=4.10.0 in /opt/homebrew/anaconda3/envs/myenv/lib/python3.11/site-packages (from torch) (4.12.2)\n",
      "Requirement already satisfied: networkx in /opt/homebrew/anaconda3/envs/myenv/lib/python3.11/site-packages (from torch) (3.4.2)\n",
      "Requirement already satisfied: jinja2 in /opt/homebrew/anaconda3/envs/myenv/lib/python3.11/site-packages (from torch) (3.1.5)\n",
      "Requirement already satisfied: fsspec in /opt/homebrew/anaconda3/envs/myenv/lib/python3.11/site-packages (from torch) (2024.12.0)\n",
      "Requirement already satisfied: sympy==1.13.1 in /opt/homebrew/anaconda3/envs/myenv/lib/python3.11/site-packages (from torch) (1.13.1)\n",
      "Requirement already satisfied: mpmath<1.4,>=1.1.0 in /opt/homebrew/anaconda3/envs/myenv/lib/python3.11/site-packages (from sympy==1.13.1->torch) (1.3.0)\n",
      "Requirement already satisfied: audioread>=2.1.9 in /opt/homebrew/anaconda3/envs/myenv/lib/python3.11/site-packages (from librosa) (3.0.1)\n",
      "Requirement already satisfied: numpy!=1.22.0,!=1.22.1,!=1.22.2,>=1.20.3 in /opt/homebrew/anaconda3/envs/myenv/lib/python3.11/site-packages (from librosa) (2.1.3)\n",
      "Requirement already satisfied: scipy>=1.2.0 in /opt/homebrew/anaconda3/envs/myenv/lib/python3.11/site-packages (from librosa) (1.15.1)\n",
      "Requirement already satisfied: scikit-learn>=0.20.0 in /opt/homebrew/anaconda3/envs/myenv/lib/python3.11/site-packages (from librosa) (1.6.1)\n",
      "Requirement already satisfied: joblib>=0.14 in /opt/homebrew/anaconda3/envs/myenv/lib/python3.11/site-packages (from librosa) (1.4.2)\n",
      "Requirement already satisfied: decorator>=4.3.0 in /opt/homebrew/anaconda3/envs/myenv/lib/python3.11/site-packages (from librosa) (5.1.1)\n",
      "Requirement already satisfied: numba>=0.51.0 in /opt/homebrew/anaconda3/envs/myenv/lib/python3.11/site-packages (from librosa) (0.61.0)\n",
      "Requirement already satisfied: soundfile>=0.12.1 in /opt/homebrew/anaconda3/envs/myenv/lib/python3.11/site-packages (from librosa) (0.13.1)\n",
      "Requirement already satisfied: pooch>=1.1 in /opt/homebrew/anaconda3/envs/myenv/lib/python3.11/site-packages (from librosa) (1.8.2)\n",
      "Requirement already satisfied: soxr>=0.3.2 in /opt/homebrew/anaconda3/envs/myenv/lib/python3.11/site-packages (from librosa) (0.5.0.post1)\n",
      "Requirement already satisfied: lazy-loader>=0.1 in /opt/homebrew/anaconda3/envs/myenv/lib/python3.11/site-packages (from librosa) (0.4)\n",
      "Requirement already satisfied: msgpack>=1.0 in /opt/homebrew/anaconda3/envs/myenv/lib/python3.11/site-packages (from librosa) (1.1.0)\n",
      "Requirement already satisfied: huggingface-hub<1.0,>=0.24.0 in /opt/homebrew/anaconda3/envs/myenv/lib/python3.11/site-packages (from transformers) (0.28.1)\n",
      "Requirement already satisfied: packaging>=20.0 in /opt/homebrew/anaconda3/envs/myenv/lib/python3.11/site-packages (from transformers) (24.2)\n",
      "Requirement already satisfied: pyyaml>=5.1 in /opt/homebrew/anaconda3/envs/myenv/lib/python3.11/site-packages (from transformers) (6.0.2)\n",
      "Requirement already satisfied: regex!=2019.12.17 in /opt/homebrew/anaconda3/envs/myenv/lib/python3.11/site-packages (from transformers) (2024.11.6)\n",
      "Requirement already satisfied: requests in /opt/homebrew/anaconda3/envs/myenv/lib/python3.11/site-packages (from transformers) (2.32.3)\n",
      "Requirement already satisfied: tokenizers<0.22,>=0.21 in /opt/homebrew/anaconda3/envs/myenv/lib/python3.11/site-packages (from transformers) (0.21.0)\n",
      "Requirement already satisfied: safetensors>=0.4.1 in /opt/homebrew/anaconda3/envs/myenv/lib/python3.11/site-packages (from transformers) (0.5.2)\n",
      "Requirement already satisfied: tqdm>=4.27 in /opt/homebrew/anaconda3/envs/myenv/lib/python3.11/site-packages (from transformers) (4.67.1)\n",
      "Requirement already satisfied: pyarrow>=15.0.0 in /opt/homebrew/anaconda3/envs/myenv/lib/python3.11/site-packages (from datasets) (19.0.0)\n",
      "Requirement already satisfied: dill<0.3.9,>=0.3.0 in /opt/homebrew/anaconda3/envs/myenv/lib/python3.11/site-packages (from datasets) (0.3.8)\n",
      "Requirement already satisfied: pandas in /opt/homebrew/anaconda3/envs/myenv/lib/python3.11/site-packages (from datasets) (2.2.3)\n",
      "Requirement already satisfied: xxhash in /opt/homebrew/anaconda3/envs/myenv/lib/python3.11/site-packages (from datasets) (3.5.0)\n",
      "Requirement already satisfied: multiprocess<0.70.17 in /opt/homebrew/anaconda3/envs/myenv/lib/python3.11/site-packages (from datasets) (0.70.16)\n",
      "Requirement already satisfied: aiohttp in /opt/homebrew/anaconda3/envs/myenv/lib/python3.11/site-packages (from datasets) (3.11.12)\n",
      "Requirement already satisfied: pillow!=8.3.*,>=5.3.0 in /opt/homebrew/anaconda3/envs/myenv/lib/python3.11/site-packages (from torchvision) (11.1.0)\n",
      "Requirement already satisfied: aiohappyeyeballs>=2.3.0 in /opt/homebrew/anaconda3/envs/myenv/lib/python3.11/site-packages (from aiohttp->datasets) (2.4.6)\n",
      "Requirement already satisfied: aiosignal>=1.1.2 in /opt/homebrew/anaconda3/envs/myenv/lib/python3.11/site-packages (from aiohttp->datasets) (1.3.2)\n",
      "Requirement already satisfied: attrs>=17.3.0 in /opt/homebrew/anaconda3/envs/myenv/lib/python3.11/site-packages (from aiohttp->datasets) (25.1.0)\n",
      "Requirement already satisfied: frozenlist>=1.1.1 in /opt/homebrew/anaconda3/envs/myenv/lib/python3.11/site-packages (from aiohttp->datasets) (1.5.0)\n",
      "Requirement already satisfied: multidict<7.0,>=4.5 in /opt/homebrew/anaconda3/envs/myenv/lib/python3.11/site-packages (from aiohttp->datasets) (6.1.0)\n",
      "Requirement already satisfied: propcache>=0.2.0 in /opt/homebrew/anaconda3/envs/myenv/lib/python3.11/site-packages (from aiohttp->datasets) (0.2.1)\n",
      "Requirement already satisfied: yarl<2.0,>=1.17.0 in /opt/homebrew/anaconda3/envs/myenv/lib/python3.11/site-packages (from aiohttp->datasets) (1.18.3)\n",
      "Requirement already satisfied: llvmlite<0.45,>=0.44.0dev0 in /opt/homebrew/anaconda3/envs/myenv/lib/python3.11/site-packages (from numba>=0.51.0->librosa) (0.44.0)\n",
      "Requirement already satisfied: platformdirs>=2.5.0 in /opt/homebrew/anaconda3/envs/myenv/lib/python3.11/site-packages (from pooch>=1.1->librosa) (4.3.6)\n",
      "Requirement already satisfied: charset-normalizer<4,>=2 in /opt/homebrew/anaconda3/envs/myenv/lib/python3.11/site-packages (from requests->transformers) (3.4.1)\n",
      "Requirement already satisfied: idna<4,>=2.5 in /opt/homebrew/anaconda3/envs/myenv/lib/python3.11/site-packages (from requests->transformers) (3.10)\n",
      "Requirement already satisfied: urllib3<3,>=1.21.1 in /opt/homebrew/anaconda3/envs/myenv/lib/python3.11/site-packages (from requests->transformers) (2.3.0)\n",
      "Requirement already satisfied: certifi>=2017.4.17 in /opt/homebrew/anaconda3/envs/myenv/lib/python3.11/site-packages (from requests->transformers) (2025.1.31)\n",
      "Requirement already satisfied: threadpoolctl>=3.1.0 in /opt/homebrew/anaconda3/envs/myenv/lib/python3.11/site-packages (from scikit-learn>=0.20.0->librosa) (3.5.0)\n",
      "Requirement already satisfied: cffi>=1.0 in /opt/homebrew/anaconda3/envs/myenv/lib/python3.11/site-packages (from soundfile>=0.12.1->librosa) (1.17.1)\n",
      "Requirement already satisfied: MarkupSafe>=2.0 in /opt/homebrew/anaconda3/envs/myenv/lib/python3.11/site-packages (from jinja2->torch) (3.0.2)\n",
      "Requirement already satisfied: python-dateutil>=2.8.2 in /opt/homebrew/anaconda3/envs/myenv/lib/python3.11/site-packages (from pandas->datasets) (2.9.0.post0)\n",
      "Requirement already satisfied: pytz>=2020.1 in /opt/homebrew/anaconda3/envs/myenv/lib/python3.11/site-packages (from pandas->datasets) (2025.1)\n",
      "Requirement already satisfied: tzdata>=2022.7 in /opt/homebrew/anaconda3/envs/myenv/lib/python3.11/site-packages (from pandas->datasets) (2025.1)\n",
      "Requirement already satisfied: pycparser in /opt/homebrew/anaconda3/envs/myenv/lib/python3.11/site-packages (from cffi>=1.0->soundfile>=0.12.1->librosa) (2.22)\n",
      "Requirement already satisfied: six>=1.5 in /opt/homebrew/anaconda3/envs/myenv/lib/python3.11/site-packages (from python-dateutil>=2.8.2->pandas->datasets) (1.17.0)\n",
      "Note: you may need to restart the kernel to use updated packages.\n"
     ]
    }
   ],
   "source": [
    "%pip install torchaudio librosa transformers datasets torch torchvision torchaudio\n"
   ]
  },
  {
   "cell_type": "markdown",
   "metadata": {},
   "source": [
    "Preprocessing Dataset"
   ]
  },
  {
   "cell_type": "code",
   "execution_count": 25,
   "metadata": {},
   "outputs": [],
   "source": [
    "import os\n",
    "import torch\n",
    "import librosa\n",
    "import numpy as np\n",
    "import torchaudio.transforms as transforms\n",
    "from torch.utils.data import Dataset, DataLoader\n",
    "from torchvision import transforms as tv_transforms\n",
    "\n",
    "# Define constants\n",
    "SAMPLE_RATE = 16000  # Ensure consistency\n",
    "N_MELS = 128\n",
    "FIXED_LENGTH = 256  # Fixed spectrogram length\n",
    "\n",
    "class AudioDataset(Dataset):\n",
    "    def __init__(self, root_dir):\n",
    "        self.data = []\n",
    "        self.labels = []\n",
    "        self.root_dir = root_dir\n",
    "        self.classes = [\"real\", \"fake\"]\n",
    "\n",
    "        for label, class_name in enumerate(self.classes):\n",
    "            class_path = os.path.join(root_dir, class_name)\n",
    "            for file in os.listdir(class_path):\n",
    "                file_path = os.path.join(class_path, file)\n",
    "                self.data.append(file_path)\n",
    "                self.labels.append(label)\n",
    "\n",
    "    def __len__(self):\n",
    "        return len(self.data)\n",
    "\n",
    "    def __getitem__(self, idx):\n",
    "        file_path = self.data[idx]\n",
    "        label = self.labels[idx]\n",
    "\n",
    "        try:\n",
    "            # Load audio\n",
    "            y, sr = librosa.load(file_path, sr=SAMPLE_RATE)\n",
    "\n",
    "            if len(y) == 0:\n",
    "                print(f\"Skipping empty file: {file_path}\")\n",
    "                return None\n",
    "\n",
    "            # Convert to Mel spectrogram\n",
    "            mel_spectrogram = librosa.feature.melspectrogram(y=y, sr=sr, n_mels=N_MELS)\n",
    "            mel_spectrogram = librosa.power_to_db(mel_spectrogram, ref=np.max)\n",
    "\n",
    "            # Resize spectrogram to fixed shape\n",
    "            if mel_spectrogram.shape[1] < FIXED_LENGTH:\n",
    "                pad_width = FIXED_LENGTH - mel_spectrogram.shape[1]\n",
    "                mel_spectrogram = np.pad(mel_spectrogram, ((0, 0), (0, pad_width)), mode='constant')\n",
    "            elif mel_spectrogram.shape[1] > FIXED_LENGTH:\n",
    "                mel_spectrogram = mel_spectrogram[:, :FIXED_LENGTH]\n",
    "\n",
    "            # Convert to PyTorch tensor\n",
    "            mel_spectrogram = torch.tensor(mel_spectrogram, dtype=torch.float32)\n",
    "            mel_spectrogram = mel_spectrogram.unsqueeze(0)  # Add channel dimension\n",
    "\n",
    "            return mel_spectrogram, torch.tensor(label, dtype=torch.long)\n",
    "\n",
    "        except Exception as e:\n",
    "            print(f\"Error processing {file_path}: {e}\")\n",
    "            return None\n",
    "\n",
    "# Custom collate function to skip None samples\n",
    "def collate_fn(batch):\n",
    "    batch = [b for b in batch if b is not None]\n",
    "    if len(batch) == 0:\n",
    "        return torch.empty(0), torch.empty(0)\n",
    "    return torch.utils.data.dataloader.default_collate(batch)\n",
    "\n",
    "# Load dataset\n",
    "train_dataset = AudioDataset(\"The Fake-or-Real Dataset /for-norm/for-norm/training\")\n",
    "val_dataset = AudioDataset(\"The Fake-or-Real Dataset /for-norm/for-norm/validation\")\n",
    "\n",
    "train_loader = DataLoader(train_dataset, batch_size=32, shuffle=True, collate_fn=collate_fn)\n",
    "val_loader = DataLoader(val_dataset, batch_size=32, shuffle=False, collate_fn=collate_fn)\n"
   ]
  },
  {
   "cell_type": "markdown",
   "metadata": {},
   "source": [
    "Simple CNN"
   ]
  },
  {
   "cell_type": "code",
   "execution_count": 35,
   "metadata": {},
   "outputs": [
    {
     "name": "stderr",
     "output_type": "stream",
     "text": [
      "Epoch 1/10:  12%|█▏        | 201/1684 [01:37<11:58,  2.06it/s, loss=0.2]  "
     ]
    },
    {
     "name": "stdout",
     "output_type": "stream",
     "text": [
      "Skipping empty file: The Fake-or-Real Dataset /for-norm/for-norm/training/real/file15440.wav_16k.wav_norm.wav_mono.wav_silence.wav\n"
     ]
    },
    {
     "name": "stderr",
     "output_type": "stream",
     "text": [
      "Epoch 1/10:  70%|██████▉   | 1171/1684 [09:30<04:07,  2.07it/s, loss=0.0327] "
     ]
    },
    {
     "name": "stdout",
     "output_type": "stream",
     "text": [
      "Skipping empty file: The Fake-or-Real Dataset /for-norm/for-norm/training/real/file11064.wav_16k.wav_norm.wav_mono.wav_silence.wav\n"
     ]
    },
    {
     "name": "stderr",
     "output_type": "stream",
     "text": [
      "Epoch 1/10: 100%|██████████| 1684/1684 [13:36<00:00,  2.06it/s, loss=0.0546]  \n",
      "/opt/homebrew/anaconda3/envs/myenv/lib/python3.11/site-packages/librosa/core/spectrum.py:266: UserWarning: n_fft=2048 is too large for input signal of length=1690\n",
      "  warnings.warn(\n"
     ]
    },
    {
     "name": "stdout",
     "output_type": "stream",
     "text": [
      "Epoch 1/10 - Train Loss: 0.1727, Train Acc: 94.14%, Val Loss: 0.0588, Val Acc: 97.81%\n"
     ]
    },
    {
     "name": "stderr",
     "output_type": "stream",
     "text": [
      "Epoch 2/10:  44%|████▍     | 739/1684 [06:00<08:06,  1.94it/s, loss=0.0895]  "
     ]
    },
    {
     "name": "stdout",
     "output_type": "stream",
     "text": [
      "Skipping empty file: The Fake-or-Real Dataset /for-norm/for-norm/training/real/file15440.wav_16k.wav_norm.wav_mono.wav_silence.wav\n"
     ]
    },
    {
     "name": "stderr",
     "output_type": "stream",
     "text": [
      "Epoch 2/10:  62%|██████▏   | 1052/1684 [08:33<05:05,  2.07it/s, loss=0.00808] "
     ]
    },
    {
     "name": "stdout",
     "output_type": "stream",
     "text": [
      "Skipping empty file: The Fake-or-Real Dataset /for-norm/for-norm/training/real/file11064.wav_16k.wav_norm.wav_mono.wav_silence.wav\n"
     ]
    },
    {
     "name": "stderr",
     "output_type": "stream",
     "text": [
      "Epoch 2/10: 100%|██████████| 1684/1684 [13:38<00:00,  2.06it/s, loss=0.000509]\n"
     ]
    },
    {
     "name": "stdout",
     "output_type": "stream",
     "text": [
      "Epoch 2/10 - Train Loss: 0.0398, Train Acc: 98.59%, Val Loss: 0.0185, Val Acc: 99.39%\n"
     ]
    },
    {
     "name": "stderr",
     "output_type": "stream",
     "text": [
      "Epoch 3/10:  18%|█▊        | 300/1684 [02:25<11:04,  2.08it/s, loss=0.000212]"
     ]
    },
    {
     "name": "stdout",
     "output_type": "stream",
     "text": [
      "Skipping empty file: The Fake-or-Real Dataset /for-norm/for-norm/training/real/file15440.wav_16k.wav_norm.wav_mono.wav_silence.wav\n"
     ]
    },
    {
     "name": "stderr",
     "output_type": "stream",
     "text": [
      "Epoch 3/10:  27%|██▋       | 456/1684 [03:41<09:46,  2.09it/s, loss=0.0623]  "
     ]
    },
    {
     "name": "stdout",
     "output_type": "stream",
     "text": [
      "Skipping empty file: The Fake-or-Real Dataset /for-norm/for-norm/training/real/file11064.wav_16k.wav_norm.wav_mono.wav_silence.wav\n"
     ]
    },
    {
     "name": "stderr",
     "output_type": "stream",
     "text": [
      "Epoch 3/10: 100%|██████████| 1684/1684 [13:50<00:00,  2.03it/s, loss=0.0439]  \n"
     ]
    },
    {
     "name": "stdout",
     "output_type": "stream",
     "text": [
      "Epoch 3/10 - Train Loss: 0.0257, Train Acc: 99.14%, Val Loss: 0.0266, Val Acc: 99.03%\n"
     ]
    },
    {
     "name": "stderr",
     "output_type": "stream",
     "text": [
      "Epoch 4/10:  53%|█████▎    | 900/1684 [07:13<06:13,  2.10it/s, loss=0.00248] "
     ]
    },
    {
     "name": "stdout",
     "output_type": "stream",
     "text": [
      "Skipping empty file: The Fake-or-Real Dataset /for-norm/for-norm/training/real/file15440.wav_16k.wav_norm.wav_mono.wav_silence.wav\n"
     ]
    },
    {
     "name": "stderr",
     "output_type": "stream",
     "text": [
      "Epoch 4/10:  81%|████████  | 1362/1684 [10:56<02:36,  2.06it/s, loss=0.00749] "
     ]
    },
    {
     "name": "stdout",
     "output_type": "stream",
     "text": [
      "Skipping empty file: The Fake-or-Real Dataset /for-norm/for-norm/training/real/file11064.wav_16k.wav_norm.wav_mono.wav_silence.wav\n"
     ]
    },
    {
     "name": "stderr",
     "output_type": "stream",
     "text": [
      "Epoch 4/10: 100%|██████████| 1684/1684 [13:31<00:00,  2.08it/s, loss=0.0098]  \n"
     ]
    },
    {
     "name": "stdout",
     "output_type": "stream",
     "text": [
      "Epoch 4/10 - Train Loss: 0.0214, Train Acc: 99.29%, Val Loss: 0.0238, Val Acc: 99.19%\n"
     ]
    },
    {
     "name": "stderr",
     "output_type": "stream",
     "text": [
      "Epoch 5/10:  62%|██████▏   | 1045/1684 [08:20<05:13,  2.04it/s, loss=0.202]   "
     ]
    },
    {
     "name": "stdout",
     "output_type": "stream",
     "text": [
      "Skipping empty file: The Fake-or-Real Dataset /for-norm/for-norm/training/real/file15440.wav_16k.wav_norm.wav_mono.wav_silence.wav\n"
     ]
    },
    {
     "name": "stderr",
     "output_type": "stream",
     "text": [
      "Epoch 5/10:  90%|█████████ | 1518/1684 [12:08<01:19,  2.09it/s, loss=0.00966] "
     ]
    },
    {
     "name": "stdout",
     "output_type": "stream",
     "text": [
      "Skipping empty file: The Fake-or-Real Dataset /for-norm/for-norm/training/real/file11064.wav_16k.wav_norm.wav_mono.wav_silence.wav\n"
     ]
    },
    {
     "name": "stderr",
     "output_type": "stream",
     "text": [
      "Epoch 5/10: 100%|██████████| 1684/1684 [13:28<00:00,  2.08it/s, loss=0.022]   \n"
     ]
    },
    {
     "name": "stdout",
     "output_type": "stream",
     "text": [
      "Epoch 5/10 - Train Loss: 0.0188, Train Acc: 99.35%, Val Loss: 0.0219, Val Acc: 99.38%\n"
     ]
    },
    {
     "name": "stderr",
     "output_type": "stream",
     "text": [
      "Epoch 6/10:  24%|██▍       | 400/1684 [03:12<10:16,  2.08it/s, loss=0.000636]"
     ]
    },
    {
     "name": "stdout",
     "output_type": "stream",
     "text": [
      "Skipping empty file: The Fake-or-Real Dataset /for-norm/for-norm/training/real/file11064.wav_16k.wav_norm.wav_mono.wav_silence.wav\n"
     ]
    },
    {
     "name": "stderr",
     "output_type": "stream",
     "text": [
      "Epoch 6/10:  84%|████████▍ | 1412/1684 [11:18<02:14,  2.02it/s, loss=0.000301]"
     ]
    },
    {
     "name": "stdout",
     "output_type": "stream",
     "text": [
      "Skipping empty file: The Fake-or-Real Dataset /for-norm/for-norm/training/real/file15440.wav_16k.wav_norm.wav_mono.wav_silence.wav\n"
     ]
    },
    {
     "name": "stderr",
     "output_type": "stream",
     "text": [
      "Epoch 6/10: 100%|██████████| 1684/1684 [13:28<00:00,  2.08it/s, loss=6.57e-6] \n"
     ]
    },
    {
     "name": "stdout",
     "output_type": "stream",
     "text": [
      "Epoch 6/10 - Train Loss: 0.0108, Train Acc: 99.64%, Val Loss: 0.0101, Val Acc: 99.64%\n"
     ]
    },
    {
     "name": "stderr",
     "output_type": "stream",
     "text": [
      "Epoch 7/10:  64%|██████▎   | 1073/1684 [08:31<04:53,  2.08it/s, loss=0.0035]  "
     ]
    },
    {
     "name": "stdout",
     "output_type": "stream",
     "text": [
      "Skipping empty file: The Fake-or-Real Dataset /for-norm/for-norm/training/real/file11064.wav_16k.wav_norm.wav_mono.wav_silence.wav\n"
     ]
    },
    {
     "name": "stderr",
     "output_type": "stream",
     "text": [
      "Epoch 7/10:  80%|███████▉  | 1346/1684 [10:41<02:40,  2.11it/s, loss=0.357]   "
     ]
    },
    {
     "name": "stdout",
     "output_type": "stream",
     "text": [
      "Skipping empty file: The Fake-or-Real Dataset /for-norm/for-norm/training/real/file15440.wav_16k.wav_norm.wav_mono.wav_silence.wav\n"
     ]
    },
    {
     "name": "stderr",
     "output_type": "stream",
     "text": [
      "Epoch 7/10: 100%|██████████| 1684/1684 [13:21<00:00,  2.10it/s, loss=0.000867]\n"
     ]
    },
    {
     "name": "stdout",
     "output_type": "stream",
     "text": [
      "Epoch 7/10 - Train Loss: 0.0166, Train Acc: 99.53%, Val Loss: 0.0265, Val Acc: 99.09%\n"
     ]
    },
    {
     "name": "stderr",
     "output_type": "stream",
     "text": [
      "Epoch 8/10:  38%|███▊      | 635/1684 [05:01<08:22,  2.09it/s, loss=0.0311]  "
     ]
    },
    {
     "name": "stdout",
     "output_type": "stream",
     "text": [
      "Skipping empty file: The Fake-or-Real Dataset /for-norm/for-norm/training/real/file11064.wav_16k.wav_norm.wav_mono.wav_silence.wav\n"
     ]
    },
    {
     "name": "stderr",
     "output_type": "stream",
     "text": [
      "Epoch 8/10:  64%|██████▎   | 1071/1684 [08:26<04:50,  2.11it/s, loss=1.6e-5]  "
     ]
    },
    {
     "name": "stdout",
     "output_type": "stream",
     "text": [
      "Skipping empty file: The Fake-or-Real Dataset /for-norm/for-norm/training/real/file15440.wav_16k.wav_norm.wav_mono.wav_silence.wav\n"
     ]
    },
    {
     "name": "stderr",
     "output_type": "stream",
     "text": [
      "Epoch 8/10: 100%|██████████| 1684/1684 [13:15<00:00,  2.12it/s, loss=0.00019] \n"
     ]
    },
    {
     "name": "stdout",
     "output_type": "stream",
     "text": [
      "Epoch 8/10 - Train Loss: 0.0143, Train Acc: 99.58%, Val Loss: 0.0340, Val Acc: 99.08%\n"
     ]
    },
    {
     "name": "stderr",
     "output_type": "stream",
     "text": [
      "Epoch 9/10:  66%|██████▌   | 1110/1684 [08:41<04:28,  2.14it/s, loss=0.000187]"
     ]
    },
    {
     "name": "stdout",
     "output_type": "stream",
     "text": [
      "Skipping empty file: The Fake-or-Real Dataset /for-norm/for-norm/training/real/file15440.wav_16k.wav_norm.wav_mono.wav_silence.wav\n"
     ]
    },
    {
     "name": "stderr",
     "output_type": "stream",
     "text": [
      "Epoch 9/10:  71%|███████   | 1190/1684 [09:19<03:50,  2.14it/s, loss=1.97e-5] "
     ]
    },
    {
     "name": "stdout",
     "output_type": "stream",
     "text": [
      "Skipping empty file: The Fake-or-Real Dataset /for-norm/for-norm/training/real/file11064.wav_16k.wav_norm.wav_mono.wav_silence.wav\n"
     ]
    },
    {
     "name": "stderr",
     "output_type": "stream",
     "text": [
      "Epoch 9/10: 100%|██████████| 1684/1684 [13:11<00:00,  2.13it/s, loss=0]       \n"
     ]
    },
    {
     "name": "stdout",
     "output_type": "stream",
     "text": [
      "Epoch 9/10 - Train Loss: 0.0103, Train Acc: 99.72%, Val Loss: 0.0112, Val Acc: 99.61%\n"
     ]
    },
    {
     "name": "stderr",
     "output_type": "stream",
     "text": [
      "Epoch 10/10:  17%|█▋        | 293/1684 [02:20<11:09,  2.08it/s, loss=1.7e-5]  "
     ]
    },
    {
     "name": "stdout",
     "output_type": "stream",
     "text": [
      "Skipping empty file: The Fake-or-Real Dataset /for-norm/for-norm/training/real/file11064.wav_16k.wav_norm.wav_mono.wav_silence.wav\n"
     ]
    },
    {
     "name": "stderr",
     "output_type": "stream",
     "text": [
      "Epoch 10/10:  31%|███       | 525/1684 [04:12<09:13,  2.09it/s, loss=0.00316] "
     ]
    },
    {
     "name": "stdout",
     "output_type": "stream",
     "text": [
      "Skipping empty file: The Fake-or-Real Dataset /for-norm/for-norm/training/real/file15440.wav_16k.wav_norm.wav_mono.wav_silence.wav\n"
     ]
    },
    {
     "name": "stderr",
     "output_type": "stream",
     "text": [
      "Epoch 10/10: 100%|██████████| 1684/1684 [13:28<00:00,  2.08it/s, loss=5.53e-5] \n"
     ]
    },
    {
     "name": "stdout",
     "output_type": "stream",
     "text": [
      "Epoch 10/10 - Train Loss: 0.0132, Train Acc: 99.62%, Val Loss: 0.0076, Val Acc: 99.77%\n"
     ]
    },
    {
     "data": {
      "image/png": "[encoded data removed]",
      "text/plain": [
       "<Figure size 1000x500 with 1 Axes>"
      ]
     },
     "metadata": {},
     "output_type": "display_data"
    },
    {
     "data": {
      "image/png": "[encoded data removed]",
      "text/plain": [
       "<Figure size 1000x500 with 1 Axes>"
      ]
     },
     "metadata": {},
     "output_type": "display_data"
    },
    {
     "name": "stdout",
     "output_type": "stream",
     "text": [
      "Model saved as audio_cnn.pth\n"
     ]
    }
   ],
   "source": [
    "import torch.nn as nn\n",
    "import torch.optim as optim\n",
    "import torch.nn.functional as F\n",
    "import matplotlib.pyplot as plt\n",
    "from tqdm import tqdm  # Progress bar\n",
    "\n",
    "# Define a simple CNN model\n",
    "class AudioCNN(nn.Module):\n",
    "    def __init__(self, num_classes=2):\n",
    "        super(AudioCNN, self).__init__()\n",
    "        self.conv1 = nn.Conv2d(1, 32, kernel_size=3, stride=1, padding=1)\n",
    "        self.conv2 = nn.Conv2d(32, 64, kernel_size=3, stride=1, padding=1)\n",
    "        self.conv3 = nn.Conv2d(64, 128, kernel_size=3, stride=1, padding=1)\n",
    "        self.pool = nn.MaxPool2d(kernel_size=2, stride=2)\n",
    "        self.fc1 = nn.Linear(128 * (N_MELS // 8) * (FIXED_LENGTH // 8), 256)\n",
    "        self.fc2 = nn.Linear(256, num_classes)\n",
    "        self.dropout = nn.Dropout(0.5)\n",
    "\n",
    "    def forward(self, x):\n",
    "        x = self.pool(F.relu(self.conv1(x)))\n",
    "        x = self.pool(F.relu(self.conv2(x)))\n",
    "        x = self.pool(F.relu(self.conv3(x)))\n",
    "        x = x.view(x.size(0), -1)  # Flatten\n",
    "        x = self.dropout(F.relu(self.fc1(x)))\n",
    "        x = self.fc2(x)\n",
    "        return x\n",
    "\n",
    "# Initialize model, loss, and optimizer\n",
    "device = torch.device(\"cuda\" if torch.cuda.is_available() else \"cpu\")\n",
    "model = AudioCNN().to(device)\n",
    "criterion = nn.CrossEntropyLoss()\n",
    "optimizer = optim.Adam(model.parameters(), lr=0.001)\n",
    "\n",
    "# Training function\n",
    "def train(model, train_loader, val_loader, criterion, optimizer, num_epochs=10):\n",
    "    train_losses, val_losses = [], []\n",
    "    train_accs, val_accs = [], []\n",
    "\n",
    "    for epoch in range(num_epochs):\n",
    "        model.train()\n",
    "        running_loss, correct, total = 0.0, 0, 0\n",
    "\n",
    "        # Progress bar\n",
    "        loop = tqdm(train_loader, leave=True)\n",
    "        loop.set_description(f\"Epoch {epoch+1}/{num_epochs}\")\n",
    "\n",
    "        for inputs, labels in loop:\n",
    "            inputs, labels = inputs.to(device), labels.to(device)\n",
    "\n",
    "            optimizer.zero_grad()\n",
    "            outputs = model(inputs)\n",
    "            loss = criterion(outputs, labels)\n",
    "            loss.backward()\n",
    "            optimizer.step()\n",
    "\n",
    "            running_loss += loss.item()\n",
    "            _, predicted = torch.max(outputs, 1)\n",
    "            total += labels.size(0)\n",
    "            correct += (predicted == labels).sum().item()\n",
    "\n",
    "            loop.set_postfix(loss=loss.item())\n",
    "\n",
    "        train_loss = running_loss / len(train_loader)\n",
    "        train_acc = 100 * correct / total\n",
    "        train_losses.append(train_loss)\n",
    "        train_accs.append(train_acc)\n",
    "\n",
    "        # Validation\n",
    "        model.eval()\n",
    "        val_loss, correct, total = 0.0, 0, 0\n",
    "        with torch.no_grad():\n",
    "            for inputs, labels in val_loader:\n",
    "                inputs, labels = inputs.to(device), labels.to(device)\n",
    "                outputs = model(inputs)\n",
    "                loss = criterion(outputs, labels)\n",
    "\n",
    "                val_loss += loss.item()\n",
    "                _, predicted = torch.max(outputs, 1)\n",
    "                total += labels.size(0)\n",
    "                correct += (predicted == labels).sum().item()\n",
    "\n",
    "        val_loss /= len(val_loader)\n",
    "        val_acc = 100 * correct / total\n",
    "        val_losses.append(val_loss)\n",
    "        val_accs.append(val_acc)\n",
    "\n",
    "        print(f\"Epoch {epoch+1}/{num_epochs} - Train Loss: {train_loss:.4f}, Train Acc: {train_acc:.2f}%, \"\n",
    "              f\"Val Loss: {val_loss:.4f}, Val Acc: {val_acc:.2f}%\")\n",
    "\n",
    "    # Plot Train vs Validation Loss\n",
    "    plt.figure(figsize=(10, 5))\n",
    "    plt.plot(range(1, num_epochs + 1), train_losses, label=\"Train Loss\", marker=\"o\")\n",
    "    plt.plot(range(1, num_epochs + 1), val_losses, label=\"Validation Loss\", marker=\"o\")\n",
    "    plt.xlabel(\"Epochs\")\n",
    "    plt.ylabel(\"Loss\")\n",
    "    plt.title(\"Train vs Validation Loss\")\n",
    "    plt.legend()\n",
    "    plt.show()\n",
    "\n",
    "    # Plot Train vs Validation Accuracy\n",
    "    plt.figure(figsize=(10, 5))\n",
    "    plt.plot(range(1, num_epochs + 1), train_accs, label=\"Train Accuracy\", marker=\"o\")\n",
    "    plt.plot(range(1, num_epochs + 1), val_accs, label=\"Validation Accuracy\", marker=\"o\")\n",
    "    plt.xlabel(\"Epochs\")\n",
    "    plt.ylabel(\"Accuracy (%)\")\n",
    "    plt.title(\"Train vs Validation Accuracy\")\n",
    "    plt.legend()\n",
    "    plt.show()\n",
    "\n",
    "# Train the model\n",
    "train(model, train_loader, val_loader, criterion, optimizer, num_epochs=10)\n",
    "\n",
    "# Save the trained model\n",
    "torch.save(model.state_dict(), \"audio_cnn.pth\")\n",
    "print(\"Model saved as audio_cnn.pth\")\n"
   ]
  },
  {
   "cell_type": "markdown",
   "metadata": {},
   "source": [
    "Testing "
   ]
  },
  {
   "cell_type": "code",
   "execution_count": 58,
   "metadata": {},
   "outputs": [
    {
     "name": "stdout",
     "output_type": "stream",
     "text": [
      "Model loaded successfully!\n"
     ]
    },
    {
     "name": "stderr",
     "output_type": "stream",
     "text": [
      "Testing: 100%|██████████| 145/145 [00:35<00:00,  4.10it/s, loss=0.319]   "
     ]
    },
    {
     "name": "stdout",
     "output_type": "stream",
     "text": [
      "Test Loss: 13.5382\n",
      "Accuracy: 0.5602\n",
      "Precision: 0.5377\n",
      "Recall: 0.9979\n",
      "F1 Score: 0.6989\n"
     ]
    },
    {
     "name": "stderr",
     "output_type": "stream",
     "text": [
      "\n"
     ]
    },
    {
     "data": {
      "image/png": "[encoded data removed]",
      "text/plain": [
       "<Figure size 600x500 with 2 Axes>"
      ]
     },
     "metadata": {},
     "output_type": "display_data"
    }
   ],
   "source": [
    "import torch\n",
    "import torch.nn as nn\n",
    "import numpy as np\n",
    "import matplotlib.pyplot as plt\n",
    "import seaborn as sns\n",
    "from sklearn.metrics import confusion_matrix, precision_recall_fscore_support, accuracy_score\n",
    "from torch.utils.data import DataLoader\n",
    "from tqdm import tqdm \n",
    "import librosa\n",
    "import os\n",
    "\n",
    "# Load the trained model\n",
    "device = torch.device(\"cuda\" if torch.cuda.is_available() else \"cpu\")\n",
    "\n",
    "# Define the same model architecture\n",
    "class AudioCNN(nn.Module):\n",
    "    def __init__(self, num_classes=2):\n",
    "        super(AudioCNN, self).__init__()\n",
    "        self.conv1 = nn.Conv2d(3, 32, kernel_size=3, stride=1, padding=1)  # 3 input channels\n",
    "        self.conv2 = nn.Conv2d(32, 64, kernel_size=3, stride=1, padding=1)\n",
    "        self.conv3 = nn.Conv2d(64, 128, kernel_size=3, stride=1, padding=1)\n",
    "        self.pool = nn.MaxPool2d(kernel_size=2, stride=2)\n",
    "        self.fc1 = nn.Linear(128 * (128 // 8) * (256 // 8), 256)\n",
    "        self.fc2 = nn.Linear(256, num_classes)\n",
    "        self.dropout = nn.Dropout(0.5)\n",
    "\n",
    "    def forward(self, x):\n",
    "        x = self.pool(torch.relu(self.conv1(x)))\n",
    "        x = self.pool(torch.relu(self.conv2(x)))\n",
    "        x = self.pool(torch.relu(self.conv3(x)))\n",
    "        x = x.view(x.size(0), -1)  # Flatten\n",
    "        x = self.dropout(torch.relu(self.fc1(x)))\n",
    "        x = self.fc2(x)\n",
    "        return x\n",
    "\n",
    "# Initialize model\n",
    "model = AudioCNN().to(device)\n",
    "\n",
    "# Load model weights, ignoring conv1 if necessary\n",
    "state_dict = torch.load(\"audio_cnn.pth\", map_location=device)\n",
    "del state_dict[\"conv1.weight\"]\n",
    "del state_dict[\"conv1.bias\"]\n",
    "model.load_state_dict(state_dict, strict=False)\n",
    "\n",
    "model.eval()  # Set to evaluation mode\n",
    "print(\"Model loaded successfully!\")\n",
    "\n",
    "# Load test dataset\n",
    "class AudioDataset(torch.utils.data.Dataset):\n",
    "    def __init__(self, root_dir):\n",
    "        self.data = []\n",
    "        self.labels = []\n",
    "        self.root_dir = root_dir\n",
    "        self.classes = [\"real\", \"fake\"]\n",
    "\n",
    "        for label, class_name in enumerate(self.classes):\n",
    "            class_path = os.path.join(root_dir, class_name)\n",
    "            for file in os.listdir(class_path):\n",
    "                file_path = os.path.join(class_path, file)\n",
    "                self.data.append(file_path)\n",
    "                self.labels.append(label)\n",
    "\n",
    "    def __len__(self):\n",
    "        return len(self.data)\n",
    "\n",
    "    def __getitem__(self, idx):\n",
    "        file_path, label = self.data[idx], self.labels[idx]\n",
    "        y, sr = librosa.load(file_path, sr=16000)\n",
    "        mel_spec = librosa.feature.melspectrogram(y=y, sr=sr, n_mels=128)\n",
    "        mel_spec = librosa.power_to_db(mel_spec, ref=np.max)\n",
    "\n",
    "        # Ensure shape (128, 256)\n",
    "        mel_spec = np.pad(mel_spec, ((0, 0), (0, max(0, 256 - mel_spec.shape[1]))), mode=\"constant\")[:, :256]\n",
    "\n",
    "        # Convert to tensor\n",
    "        mel_spec = torch.tensor(mel_spec, dtype=torch.float32).unsqueeze(0)  # (1, 128, 256)\n",
    "        mel_spec = torch.cat([mel_spec] * 3, dim=0)  # Convert to 3 channels for CNN\n",
    "\n",
    "        return mel_spec, torch.tensor(label, dtype=torch.long)\n",
    "\n",
    "# Load test data\n",
    "test_dataset = AudioDataset(\"The Fake-or-Real Dataset /for-norm/for-norm/testing\")\n",
    "test_loader = DataLoader(test_dataset, batch_size=32, shuffle=False)\n",
    "\n",
    "# Evaluate on Test Data with Progress Bar\n",
    "all_preds, all_labels = [], []\n",
    "test_loss = 0.0\n",
    "criterion = nn.CrossEntropyLoss()\n",
    "\n",
    "with torch.no_grad():\n",
    "    loop = tqdm(test_loader, desc=\"Testing\", leave=True)\n",
    "    \n",
    "    for inputs, labels in loop:\n",
    "        inputs, labels = inputs.to(device), labels.to(device)\n",
    "        outputs = model(inputs)\n",
    "        loss = criterion(outputs, labels)\n",
    "\n",
    "        preds = outputs.argmax(dim=1)  # Get predicted labels\n",
    "\n",
    "        all_preds.extend(preds.cpu().numpy())\n",
    "        all_labels.extend(labels.cpu().numpy())\n",
    "\n",
    "        test_loss += loss.item()\n",
    "        loop.set_postfix(loss=loss.item())\n",
    "\n",
    "# Compute Metrics\n",
    "accuracy = accuracy_score(all_labels, all_preds)\n",
    "precision, recall, f1, _ = precision_recall_fscore_support(all_labels, all_preds, average=\"binary\")\n",
    "conf_mat = confusion_matrix(all_labels, all_preds)\n",
    "\n",
    "# Print Metrics\n",
    "print(f\"Test Loss: {test_loss / len(test_loader):.4f}\")\n",
    "print(f\"Accuracy: {accuracy:.4f}\")\n",
    "print(f\"Precision: {precision:.4f}\")\n",
    "print(f\"Recall: {recall:.4f}\")\n",
    "print(f\"F1 Score: {f1:.4f}\")\n",
    "\n",
    "# Plot Confusion Matrix\n",
    "plt.figure(figsize=(6, 5))\n",
    "sns.heatmap(conf_mat, annot=True, fmt=\"d\", cmap=\"Blues\", xticklabels=[\"Real\", \"Fake\"], yticklabels=[\"Real\", \"Fake\"])\n",
    "plt.xlabel(\"Predicted\")\n",
    "plt.ylabel(\"Actual\")\n",
    "plt.title(\"Confusion Matrix\")\n",
    "plt.show()\n"
   ]
  },
  {
   "cell_type": "markdown",
   "metadata": {},
   "source": [
    "Using Dropout,Early Stopping and L2 Regularization"
   ]
  },
  {
   "cell_type": "code",
   "execution_count": null,
   "metadata": {},
   "outputs": [
    {
     "name": "stderr",
     "output_type": "stream",
     "text": [
      "Epoch 1/20:   5%|▍         | 76/1684 [00:38<13:40,  1.96it/s]/opt/homebrew/anaconda3/envs/myenv/lib/python3.11/site-packages/librosa/core/spectrum.py:266: UserWarning: n_fft=2048 is too large for input signal of length=1891\n",
      "  warnings.warn(\n",
      "Epoch 1/20:  56%|█████▌    | 935/1684 [07:48<06:03,  2.06it/s]"
     ]
    },
    {
     "name": "stdout",
     "output_type": "stream",
     "text": [
      "Skipping empty file: The Fake-or-Real Dataset /for-norm/for-norm/training/real/file11064.wav_16k.wav_norm.wav_mono.wav_silence.wav\n"
     ]
    },
    {
     "name": "stderr",
     "output_type": "stream",
     "text": [
      "Epoch 1/20:  79%|███████▉  | 1330/1684 [11:02<02:53,  2.04it/s]/opt/homebrew/anaconda3/envs/myenv/lib/python3.11/site-packages/librosa/core/spectrum.py:266: UserWarning: n_fft=2048 is too large for input signal of length=1837\n",
      "  warnings.warn(\n",
      "Epoch 1/20:  94%|█████████▎| 1577/1684 [13:04<00:52,  2.04it/s]"
     ]
    },
    {
     "name": "stdout",
     "output_type": "stream",
     "text": [
      "Skipping empty file: The Fake-or-Real Dataset /for-norm/for-norm/training/real/file15440.wav_16k.wav_norm.wav_mono.wav_silence.wav\n"
     ]
    },
    {
     "name": "stderr",
     "output_type": "stream",
     "text": [
      "Epoch 1/20: 100%|██████████| 1684/1684 [13:57<00:00,  2.01it/s]\n",
      "/opt/homebrew/anaconda3/envs/myenv/lib/python3.11/site-packages/librosa/core/spectrum.py:266: UserWarning: n_fft=2048 is too large for input signal of length=1690\n",
      "  warnings.warn(\n"
     ]
    },
    {
     "name": "stdout",
     "output_type": "stream",
     "text": [
      "Epoch 1 - Train Loss: 0.2488, Train Acc: 91.11%, Val Loss: 0.0657, Val Acc: 97.81%\n"
     ]
    },
    {
     "name": "stderr",
     "output_type": "stream",
     "text": [
      "Epoch 2/20:  84%|████████▎ | 1410/1684 [11:39<02:15,  2.03it/s]"
     ]
    },
    {
     "name": "stdout",
     "output_type": "stream",
     "text": [
      "Skipping empty file: The Fake-or-Real Dataset /for-norm/for-norm/training/real/file15440.wav_16k.wav_norm.wav_mono.wav_silence.wav\n"
     ]
    },
    {
     "name": "stderr",
     "output_type": "stream",
     "text": [
      "Epoch 2/20:  89%|████████▊ | 1494/1684 [12:21<01:34,  2.01it/s]"
     ]
    },
    {
     "name": "stdout",
     "output_type": "stream",
     "text": [
      "Skipping empty file: The Fake-or-Real Dataset /for-norm/for-norm/training/real/file11064.wav_16k.wav_norm.wav_mono.wav_silence.wav\n"
     ]
    },
    {
     "name": "stderr",
     "output_type": "stream",
     "text": [
      "Epoch 2/20: 100%|██████████| 1684/1684 [13:56<00:00,  2.01it/s]\n"
     ]
    },
    {
     "name": "stdout",
     "output_type": "stream",
     "text": [
      "Epoch 2 - Train Loss: 0.0505, Train Acc: 98.25%, Val Loss: 0.0161, Val Acc: 99.44%\n"
     ]
    },
    {
     "name": "stderr",
     "output_type": "stream",
     "text": [
      "Epoch 3/20:  35%|███▍      | 589/1684 [04:55<09:07,  2.00it/s]"
     ]
    },
    {
     "name": "stdout",
     "output_type": "stream",
     "text": [
      "Skipping empty file: The Fake-or-Real Dataset /for-norm/for-norm/training/real/file11064.wav_16k.wav_norm.wav_mono.wav_silence.wav\n"
     ]
    },
    {
     "name": "stderr",
     "output_type": "stream",
     "text": [
      "Epoch 3/20:  37%|███▋      | 619/1684 [05:10<09:08,  1.94it/s]"
     ]
    },
    {
     "name": "stdout",
     "output_type": "stream",
     "text": [
      "Skipping empty file: The Fake-or-Real Dataset /for-norm/for-norm/training/real/file15440.wav_16k.wav_norm.wav_mono.wav_silence.wav\n"
     ]
    },
    {
     "name": "stderr",
     "output_type": "stream",
     "text": [
      "Epoch 3/20: 100%|██████████| 1684/1684 [13:49<00:00,  2.03it/s]\n"
     ]
    },
    {
     "name": "stdout",
     "output_type": "stream",
     "text": [
      "Epoch 3 - Train Loss: 0.0283, Train Acc: 99.04%, Val Loss: 0.0192, Val Acc: 99.45%\n"
     ]
    },
    {
     "name": "stderr",
     "output_type": "stream",
     "text": [
      "Epoch 4/20:  55%|█████▌    | 932/1684 [07:39<06:14,  2.01it/s]"
     ]
    },
    {
     "name": "stdout",
     "output_type": "stream",
     "text": [
      "Skipping empty file: The Fake-or-Real Dataset /for-norm/for-norm/training/real/file15440.wav_16k.wav_norm.wav_mono.wav_silence.wav\n"
     ]
    },
    {
     "name": "stderr",
     "output_type": "stream",
     "text": [
      "Epoch 4/20:  60%|█████▉    | 1003/1684 [08:15<05:40,  2.00it/s]"
     ]
    },
    {
     "name": "stdout",
     "output_type": "stream",
     "text": [
      "Skipping empty file: The Fake-or-Real Dataset /for-norm/for-norm/training/real/file11064.wav_16k.wav_norm.wav_mono.wav_silence.wav\n"
     ]
    },
    {
     "name": "stderr",
     "output_type": "stream",
     "text": [
      "Epoch 4/20: 100%|██████████| 1684/1684 [13:53<00:00,  2.02it/s]\n"
     ]
    },
    {
     "name": "stdout",
     "output_type": "stream",
     "text": [
      "Epoch 4 - Train Loss: 0.0232, Train Acc: 99.22%, Val Loss: 0.0145, Val Acc: 99.53%\n"
     ]
    },
    {
     "name": "stderr",
     "output_type": "stream",
     "text": [
      "Epoch 5/20:   2%|▏         | 26/1684 [00:12<13:53,  1.99it/s]"
     ]
    },
    {
     "name": "stdout",
     "output_type": "stream",
     "text": [
      "Skipping empty file: The Fake-or-Real Dataset /for-norm/for-norm/training/real/file15440.wav_16k.wav_norm.wav_mono.wav_silence.wav\n"
     ]
    },
    {
     "name": "stderr",
     "output_type": "stream",
     "text": [
      "Epoch 5/20:  21%|██        | 355/1684 [02:55<10:47,  2.05it/s]"
     ]
    },
    {
     "name": "stdout",
     "output_type": "stream",
     "text": [
      "Skipping empty file: The Fake-or-Real Dataset /for-norm/for-norm/training/real/file11064.wav_16k.wav_norm.wav_mono.wav_silence.wav\n"
     ]
    },
    {
     "name": "stderr",
     "output_type": "stream",
     "text": [
      "Epoch 5/20: 100%|██████████| 1684/1684 [13:56<00:00,  2.01it/s]\n"
     ]
    },
    {
     "name": "stdout",
     "output_type": "stream",
     "text": [
      "Epoch 5 - Train Loss: 0.0222, Train Acc: 99.30%, Val Loss: 0.0095, Val Acc: 99.68%\n"
     ]
    },
    {
     "name": "stderr",
     "output_type": "stream",
     "text": [
      "Epoch 6/20:  33%|███▎      | 558/1684 [04:35<09:26,  1.99it/s]"
     ]
    },
    {
     "name": "stdout",
     "output_type": "stream",
     "text": [
      "Skipping empty file: The Fake-or-Real Dataset /for-norm/for-norm/training/real/file15440.wav_16k.wav_norm.wav_mono.wav_silence.wav\n"
     ]
    },
    {
     "name": "stderr",
     "output_type": "stream",
     "text": [
      "Epoch 6/20:  94%|█████████▍| 1587/1684 [13:08<00:47,  2.04it/s]"
     ]
    },
    {
     "name": "stdout",
     "output_type": "stream",
     "text": [
      "Skipping empty file: The Fake-or-Real Dataset /for-norm/for-norm/training/real/file11064.wav_16k.wav_norm.wav_mono.wav_silence.wav\n"
     ]
    },
    {
     "name": "stderr",
     "output_type": "stream",
     "text": [
      "Epoch 6/20: 100%|██████████| 1684/1684 [13:56<00:00,  2.01it/s]\n"
     ]
    },
    {
     "name": "stdout",
     "output_type": "stream",
     "text": [
      "Epoch 6 - Train Loss: 0.0172, Train Acc: 99.47%, Val Loss: 0.0062, Val Acc: 99.74%\n"
     ]
    },
    {
     "name": "stderr",
     "output_type": "stream",
     "text": [
      "Epoch 7/20:  66%|██████▌   | 1114/1684 [09:13<04:34,  2.08it/s]"
     ]
    },
    {
     "name": "stdout",
     "output_type": "stream",
     "text": [
      "Skipping empty file: The Fake-or-Real Dataset /for-norm/for-norm/training/real/file15440.wav_16k.wav_norm.wav_mono.wav_silence.wav\n"
     ]
    },
    {
     "name": "stderr",
     "output_type": "stream",
     "text": [
      "Epoch 7/20:  78%|███████▊  | 1318/1684 [10:53<03:03,  2.00it/s]"
     ]
    },
    {
     "name": "stdout",
     "output_type": "stream",
     "text": [
      "Skipping empty file: The Fake-or-Real Dataset /for-norm/for-norm/training/real/file11064.wav_16k.wav_norm.wav_mono.wav_silence.wav\n"
     ]
    },
    {
     "name": "stderr",
     "output_type": "stream",
     "text": [
      "Epoch 7/20: 100%|██████████| 1684/1684 [13:54<00:00,  2.02it/s]\n"
     ]
    },
    {
     "name": "stdout",
     "output_type": "stream",
     "text": [
      "Epoch 7 - Train Loss: 0.0199, Train Acc: 99.43%, Val Loss: 0.0095, Val Acc: 99.68%\n"
     ]
    },
    {
     "name": "stderr",
     "output_type": "stream",
     "text": [
      "Epoch 8/20:  63%|██████▎   | 1066/1684 [08:49<05:00,  2.06it/s]"
     ]
    },
    {
     "name": "stdout",
     "output_type": "stream",
     "text": [
      "Skipping empty file: The Fake-or-Real Dataset /for-norm/for-norm/training/real/file15440.wav_16k.wav_norm.wav_mono.wav_silence.wav\n"
     ]
    },
    {
     "name": "stderr",
     "output_type": "stream",
     "text": [
      "Epoch 8/20:  83%|████████▎ | 1395/1684 [11:31<02:22,  2.03it/s]"
     ]
    },
    {
     "name": "stdout",
     "output_type": "stream",
     "text": [
      "Skipping empty file: The Fake-or-Real Dataset /for-norm/for-norm/training/real/file11064.wav_16k.wav_norm.wav_mono.wav_silence.wav\n"
     ]
    },
    {
     "name": "stderr",
     "output_type": "stream",
     "text": [
      "Epoch 8/20: 100%|██████████| 1684/1684 [13:53<00:00,  2.02it/s]\n"
     ]
    },
    {
     "name": "stdout",
     "output_type": "stream",
     "text": [
      "Epoch 8 - Train Loss: 0.0153, Train Acc: 99.52%, Val Loss: 0.0128, Val Acc: 99.48%\n"
     ]
    },
    {
     "name": "stderr",
     "output_type": "stream",
     "text": [
      "Epoch 9/20:  49%|████▉     | 826/1684 [06:52<07:02,  2.03it/s]"
     ]
    },
    {
     "name": "stdout",
     "output_type": "stream",
     "text": [
      "Skipping empty file: The Fake-or-Real Dataset /for-norm/for-norm/training/real/file15440.wav_16k.wav_norm.wav_mono.wav_silence.wav\n"
     ]
    },
    {
     "name": "stderr",
     "output_type": "stream",
     "text": [
      "Epoch 9/20:  95%|█████████▍| 1596/1684 [13:18<00:43,  2.01it/s]"
     ]
    },
    {
     "name": "stdout",
     "output_type": "stream",
     "text": [
      "Skipping empty file: The Fake-or-Real Dataset /for-norm/for-norm/training/real/file11064.wav_16k.wav_norm.wav_mono.wav_silence.wav\n"
     ]
    },
    {
     "name": "stderr",
     "output_type": "stream",
     "text": [
      "Epoch 9/20: 100%|██████████| 1684/1684 [14:01<00:00,  2.00it/s]\n"
     ]
    },
    {
     "name": "stdout",
     "output_type": "stream",
     "text": [
      "Epoch 9 - Train Loss: 0.0192, Train Acc: 99.44%, Val Loss: 0.0076, Val Acc: 99.73%\n"
     ]
    },
    {
     "name": "stderr",
     "output_type": "stream",
     "text": [
      "Epoch 10/20:  30%|██▉       | 498/1684 [04:08<10:00,  1.97it/s]"
     ]
    },
    {
     "name": "stdout",
     "output_type": "stream",
     "text": [
      "Skipping empty file: The Fake-or-Real Dataset /for-norm/for-norm/training/real/file11064.wav_16k.wav_norm.wav_mono.wav_silence.wav\n"
     ]
    },
    {
     "name": "stderr",
     "output_type": "stream",
     "text": [
      "Epoch 10/20:  49%|████▉     | 833/1684 [06:56<07:02,  2.01it/s]"
     ]
    },
    {
     "name": "stdout",
     "output_type": "stream",
     "text": [
      "Skipping empty file: The Fake-or-Real Dataset /for-norm/for-norm/training/real/file15440.wav_16k.wav_norm.wav_mono.wav_silence.wav\n"
     ]
    },
    {
     "name": "stderr",
     "output_type": "stream",
     "text": [
      "Epoch 10/20: 100%|██████████| 1684/1684 [14:02<00:00,  2.00it/s]\n"
     ]
    },
    {
     "name": "stdout",
     "output_type": "stream",
     "text": [
      "Epoch 10 - Train Loss: 0.0144, Train Acc: 99.58%, Val Loss: 0.0040, Val Acc: 99.93%\n"
     ]
    },
    {
     "name": "stderr",
     "output_type": "stream",
     "text": [
      "Epoch 11/20:  30%|██▉       | 502/1684 [04:10<09:54,  1.99it/s]"
     ]
    },
    {
     "name": "stdout",
     "output_type": "stream",
     "text": [
      "Skipping empty file: The Fake-or-Real Dataset /for-norm/for-norm/training/real/file15440.wav_16k.wav_norm.wav_mono.wav_silence.wav\n"
     ]
    },
    {
     "name": "stderr",
     "output_type": "stream",
     "text": [
      "Epoch 11/20:  53%|█████▎    | 885/1684 [07:20<06:31,  2.04it/s]"
     ]
    },
    {
     "name": "stdout",
     "output_type": "stream",
     "text": [
      "Skipping empty file: The Fake-or-Real Dataset /for-norm/for-norm/training/real/file11064.wav_16k.wav_norm.wav_mono.wav_silence.wav\n"
     ]
    },
    {
     "name": "stderr",
     "output_type": "stream",
     "text": [
      "Epoch 11/20: 100%|██████████| 1684/1684 [13:55<00:00,  2.02it/s]\n"
     ]
    },
    {
     "name": "stdout",
     "output_type": "stream",
     "text": [
      "Epoch 11 - Train Loss: 0.0184, Train Acc: 99.50%, Val Loss: 0.0060, Val Acc: 99.81%\n"
     ]
    },
    {
     "name": "stderr",
     "output_type": "stream",
     "text": [
      "Epoch 12/20:  19%|█▉        | 316/1684 [02:36<11:15,  2.03it/s]"
     ]
    },
    {
     "name": "stdout",
     "output_type": "stream",
     "text": [
      "Skipping empty file: The Fake-or-Real Dataset /for-norm/for-norm/training/real/file15440.wav_16k.wav_norm.wav_mono.wav_silence.wav\n"
     ]
    },
    {
     "name": "stderr",
     "output_type": "stream",
     "text": [
      "Epoch 12/20:  96%|█████████▌| 1617/1684 [13:16<00:32,  2.05it/s]"
     ]
    },
    {
     "name": "stdout",
     "output_type": "stream",
     "text": [
      "Skipping empty file: The Fake-or-Real Dataset /for-norm/for-norm/training/real/file11064.wav_16k.wav_norm.wav_mono.wav_silence.wav\n"
     ]
    },
    {
     "name": "stderr",
     "output_type": "stream",
     "text": [
      "Epoch 12/20: 100%|██████████| 1684/1684 [13:48<00:00,  2.03it/s]\n"
     ]
    },
    {
     "name": "stdout",
     "output_type": "stream",
     "text": [
      "Epoch 12 - Train Loss: 0.0117, Train Acc: 99.62%, Val Loss: 0.0055, Val Acc: 99.81%\n"
     ]
    },
    {
     "name": "stderr",
     "output_type": "stream",
     "text": [
      "Epoch 13/20:   7%|▋         | 114/1684 [00:56<12:48,  2.04it/s]"
     ]
    },
    {
     "name": "stdout",
     "output_type": "stream",
     "text": [
      "Skipping empty file: The Fake-or-Real Dataset /for-norm/for-norm/training/real/file11064.wav_16k.wav_norm.wav_mono.wav_silence.wav\n"
     ]
    },
    {
     "name": "stderr",
     "output_type": "stream",
     "text": [
      "Epoch 13/20:  84%|████████▍ | 1422/1684 [11:33<02:07,  2.06it/s]"
     ]
    },
    {
     "name": "stdout",
     "output_type": "stream",
     "text": [
      "Skipping empty file: The Fake-or-Real Dataset /for-norm/for-norm/training/real/file15440.wav_16k.wav_norm.wav_mono.wav_silence.wav\n"
     ]
    },
    {
     "name": "stderr",
     "output_type": "stream",
     "text": [
      "Epoch 13/20: 100%|██████████| 1684/1684 [13:40<00:00,  2.05it/s]\n"
     ]
    },
    {
     "name": "stdout",
     "output_type": "stream",
     "text": [
      "Epoch 13 - Train Loss: 0.0123, Train Acc: 99.65%, Val Loss: 0.0050, Val Acc: 99.86%\n"
     ]
    },
    {
     "name": "stderr",
     "output_type": "stream",
     "text": [
      "Epoch 14/20:  15%|█▍        | 249/1684 [01:59<11:23,  2.10it/s]"
     ]
    },
    {
     "name": "stdout",
     "output_type": "stream",
     "text": [
      "Skipping empty file: The Fake-or-Real Dataset /for-norm/for-norm/training/real/file11064.wav_16k.wav_norm.wav_mono.wav_silence.wav\n"
     ]
    },
    {
     "name": "stderr",
     "output_type": "stream",
     "text": [
      "Epoch 14/20:  27%|██▋       | 449/1684 [03:37<10:13,  2.01it/s]"
     ]
    },
    {
     "name": "stdout",
     "output_type": "stream",
     "text": [
      "Skipping empty file: The Fake-or-Real Dataset /for-norm/for-norm/training/real/file15440.wav_16k.wav_norm.wav_mono.wav_silence.wav\n"
     ]
    },
    {
     "name": "stderr",
     "output_type": "stream",
     "text": [
      "Epoch 14/20: 100%|██████████| 1684/1684 [13:46<00:00,  2.04it/s]\n"
     ]
    },
    {
     "name": "stdout",
     "output_type": "stream",
     "text": [
      "Epoch 14 - Train Loss: 0.0144, Train Acc: 99.64%, Val Loss: 0.0131, Val Acc: 99.53%\n"
     ]
    },
    {
     "name": "stderr",
     "output_type": "stream",
     "text": [
      "Epoch 15/20:  81%|████████  | 1359/1684 [11:09<02:38,  2.05it/s]"
     ]
    },
    {
     "name": "stdout",
     "output_type": "stream",
     "text": [
      "Skipping empty file: The Fake-or-Real Dataset /for-norm/for-norm/training/real/file15440.wav_16k.wav_norm.wav_mono.wav_silence.wav\n"
     ]
    },
    {
     "name": "stderr",
     "output_type": "stream",
     "text": [
      "Epoch 15/20:  85%|████████▌ | 1438/1684 [11:49<02:09,  1.89it/s]"
     ]
    },
    {
     "name": "stdout",
     "output_type": "stream",
     "text": [
      "Skipping empty file: The Fake-or-Real Dataset /for-norm/for-norm/training/real/file11064.wav_16k.wav_norm.wav_mono.wav_silence.wav\n"
     ]
    },
    {
     "name": "stderr",
     "output_type": "stream",
     "text": [
      "Epoch 15/20: 100%|██████████| 1684/1684 [13:51<00:00,  2.02it/s]\n"
     ]
    },
    {
     "name": "stdout",
     "output_type": "stream",
     "text": [
      "Epoch 15 - Train Loss: 0.0137, Train Acc: 99.61%, Val Loss: 0.0026, Val Acc: 99.90%\n"
     ]
    },
    {
     "name": "stderr",
     "output_type": "stream",
     "text": [
      "Epoch 16/20:  30%|███       | 511/1684 [04:17<09:47,  2.00it/s]"
     ]
    },
    {
     "name": "stdout",
     "output_type": "stream",
     "text": [
      "Skipping empty file: The Fake-or-Real Dataset /for-norm/for-norm/training/real/file15440.wav_16k.wav_norm.wav_mono.wav_silence.wav\n"
     ]
    },
    {
     "name": "stderr",
     "output_type": "stream",
     "text": [
      "Epoch 16/20:  48%|████▊     | 805/1684 [06:44<07:17,  2.01it/s]"
     ]
    },
    {
     "name": "stdout",
     "output_type": "stream",
     "text": [
      "Skipping empty file: The Fake-or-Real Dataset /for-norm/for-norm/training/real/file11064.wav_16k.wav_norm.wav_mono.wav_silence.wav\n"
     ]
    },
    {
     "name": "stderr",
     "output_type": "stream",
     "text": [
      "Epoch 16/20: 100%|██████████| 1684/1684 [14:23<00:00,  1.95it/s]\n"
     ]
    },
    {
     "name": "stdout",
     "output_type": "stream",
     "text": [
      "Epoch 16 - Train Loss: 0.0144, Train Acc: 99.60%, Val Loss: 0.0038, Val Acc: 99.90%\n"
     ]
    },
    {
     "name": "stderr",
     "output_type": "stream",
     "text": [
      "Epoch 17/20:   0%|          | 4/1684 [00:02<15:19,  1.83it/s]"
     ]
    },
    {
     "name": "stdout",
     "output_type": "stream",
     "text": [
      "Skipping empty file: The Fake-or-Real Dataset /for-norm/for-norm/training/real/file11064.wav_16k.wav_norm.wav_mono.wav_silence.wav\n"
     ]
    },
    {
     "name": "stderr",
     "output_type": "stream",
     "text": [
      "Epoch 17/20:  25%|██▍       | 419/1684 [03:40<11:23,  1.85it/s]"
     ]
    },
    {
     "name": "stdout",
     "output_type": "stream",
     "text": [
      "Skipping empty file: The Fake-or-Real Dataset /for-norm/for-norm/training/real/file15440.wav_16k.wav_norm.wav_mono.wav_silence.wav\n"
     ]
    },
    {
     "name": "stderr",
     "output_type": "stream",
     "text": [
      "Epoch 17/20: 100%|██████████| 1684/1684 [14:53<00:00,  1.89it/s]\n"
     ]
    },
    {
     "name": "stdout",
     "output_type": "stream",
     "text": [
      "Epoch 17 - Train Loss: 0.0132, Train Acc: 99.61%, Val Loss: 0.0045, Val Acc: 99.87%\n"
     ]
    },
    {
     "name": "stderr",
     "output_type": "stream",
     "text": [
      "Epoch 18/20:  43%|████▎     | 729/1684 [06:20<08:17,  1.92it/s]"
     ]
    },
    {
     "name": "stdout",
     "output_type": "stream",
     "text": [
      "Skipping empty file: The Fake-or-Real Dataset /for-norm/for-norm/training/real/file15440.wav_16k.wav_norm.wav_mono.wav_silence.wav\n"
     ]
    },
    {
     "name": "stderr",
     "output_type": "stream",
     "text": [
      "Epoch 18/20:  83%|████████▎ | 1405/1684 [12:12<02:29,  1.87it/s]"
     ]
    },
    {
     "name": "stdout",
     "output_type": "stream",
     "text": [
      "Skipping empty file: The Fake-or-Real Dataset /for-norm/for-norm/training/real/file11064.wav_16k.wav_norm.wav_mono.wav_silence.wav\n"
     ]
    },
    {
     "name": "stderr",
     "output_type": "stream",
     "text": [
      "Epoch 18/20: 100%|██████████| 1684/1684 [14:40<00:00,  1.91it/s]\n"
     ]
    },
    {
     "name": "stdout",
     "output_type": "stream",
     "text": [
      "Epoch 18 - Train Loss: 0.0104, Train Acc: 99.69%, Val Loss: 0.0236, Val Acc: 99.31%\n"
     ]
    },
    {
     "name": "stderr",
     "output_type": "stream",
     "text": [
      "Epoch 19/20:   9%|▉         | 158/1684 [01:24<13:21,  1.90it/s]"
     ]
    },
    {
     "name": "stdout",
     "output_type": "stream",
     "text": [
      "Skipping empty file: The Fake-or-Real Dataset /for-norm/for-norm/training/real/file11064.wav_16k.wav_norm.wav_mono.wav_silence.wav\n"
     ]
    },
    {
     "name": "stderr",
     "output_type": "stream",
     "text": [
      "Epoch 19/20:  54%|█████▍    | 906/1684 [08:00<06:54,  1.88it/s]"
     ]
    },
    {
     "name": "stdout",
     "output_type": "stream",
     "text": [
      "Skipping empty file: The Fake-or-Real Dataset /for-norm/for-norm/training/real/file15440.wav_16k.wav_norm.wav_mono.wav_silence.wav\n"
     ]
    },
    {
     "name": "stderr",
     "output_type": "stream",
     "text": [
      "Epoch 19/20: 100%|██████████| 1684/1684 [14:50<00:00,  1.89it/s]\n"
     ]
    },
    {
     "name": "stdout",
     "output_type": "stream",
     "text": [
      "Epoch 19 - Train Loss: 0.0113, Train Acc: 99.67%, Val Loss: 0.0048, Val Acc: 99.86%\n"
     ]
    },
    {
     "name": "stderr",
     "output_type": "stream",
     "text": [
      "Epoch 20/20:  24%|██▎       | 396/1684 [03:27<11:23,  1.88it/s]"
     ]
    },
    {
     "name": "stdout",
     "output_type": "stream",
     "text": [
      "Skipping empty file: The Fake-or-Real Dataset /for-norm/for-norm/training/real/file11064.wav_16k.wav_norm.wav_mono.wav_silence.wav\n"
     ]
    },
    {
     "name": "stderr",
     "output_type": "stream",
     "text": [
      "Epoch 20/20:  76%|███████▌  | 1272/1684 [11:02<03:37,  1.90it/s]"
     ]
    },
    {
     "name": "stdout",
     "output_type": "stream",
     "text": [
      "Skipping empty file: The Fake-or-Real Dataset /for-norm/for-norm/training/real/file15440.wav_16k.wav_norm.wav_mono.wav_silence.wav\n"
     ]
    },
    {
     "name": "stderr",
     "output_type": "stream",
     "text": [
      "Epoch 20/20: 100%|██████████| 1684/1684 [14:37<00:00,  1.92it/s]\n"
     ]
    },
    {
     "name": "stdout",
     "output_type": "stream",
     "text": [
      "Epoch 20 - Train Loss: 0.0114, Train Acc: 99.68%, Val Loss: 0.0101, Val Acc: 99.62%\n",
      "Early stopping triggered.\n",
      "\n",
      "Final Evaluation:\n",
      "Precision: 0.9962\n",
      "Recall: 0.9962\n",
      "F1 Score: 0.9962\n",
      "\n",
      "Confusion Matrix:\n",
      " [[5393    7]\n",
      " [  34 5364]]\n"
     ]
    },
    {
     "data": {
      "image/png": "[encoded data removed]",
      "text/plain": [
       "<Figure size 800x500 with 1 Axes>"
      ]
     },
     "metadata": {},
     "output_type": "display_data"
    },
    {
     "data": {
      "image/png": "[encoded data removed]",
      "text/plain": [
       "<Figure size 800x500 with 1 Axes>"
      ]
     },
     "metadata": {},
     "output_type": "display_data"
    }
   ],
   "source": [
    "import os\n",
    "import torch\n",
    "import torch.nn as nn\n",
    "import torch.optim as optim\n",
    "import librosa\n",
    "import numpy as np\n",
    "import matplotlib.pyplot as plt\n",
    "import seaborn as sns\n",
    "from tqdm import tqdm\n",
    "from torch.utils.data import Dataset, DataLoader\n",
    "from sklearn.metrics import precision_score, recall_score, f1_score, confusion_matrix, classification_report\n",
    "\n",
    "# Define Constants\n",
    "SAMPLE_RATE = 16000  # Ensure consistency\n",
    "N_MELS = 128\n",
    "FIXED_LENGTH = 256  # Fixed spectrogram length\n",
    "BATCH_SIZE = 32  \n",
    "DEVICE = torch.device(\"cuda\" if torch.cuda.is_available() else \"cpu\")\n",
    "\n",
    "# Define Audio Dataset\n",
    "class AudioDataset(Dataset):\n",
    "    def __init__(self, root_dir):\n",
    "        self.data = []\n",
    "        self.labels = []\n",
    "        self.root_dir = root_dir\n",
    "        self.classes = [\"real\", \"fake\"]\n",
    "\n",
    "        for label, class_name in enumerate(self.classes):\n",
    "            class_path = os.path.join(root_dir, class_name)\n",
    "            for file in os.listdir(class_path):\n",
    "                file_path = os.path.join(class_path, file)\n",
    "                self.data.append(file_path)\n",
    "                self.labels.append(label)\n",
    "\n",
    "    def __len__(self):\n",
    "        return len(self.data)\n",
    "\n",
    "    def __getitem__(self, idx):\n",
    "        file_path = self.data[idx]\n",
    "        label = self.labels[idx]\n",
    "\n",
    "        try:\n",
    "            # Load audio\n",
    "            y, sr = librosa.load(file_path, sr=SAMPLE_RATE)\n",
    "\n",
    "            if len(y) == 0:\n",
    "                print(f\"Skipping empty file: {file_path}\")\n",
    "                return None\n",
    "\n",
    "            # Convert to Mel spectrogram\n",
    "            mel_spectrogram = librosa.feature.melspectrogram(y=y, sr=sr, n_mels=N_MELS)\n",
    "            mel_spectrogram = librosa.power_to_db(mel_spectrogram, ref=np.max)\n",
    "\n",
    "            # Resize spectrogram to fixed shape\n",
    "            if mel_spectrogram.shape[1] < FIXED_LENGTH:\n",
    "                pad_width = FIXED_LENGTH - mel_spectrogram.shape[1]\n",
    "                mel_spectrogram = np.pad(mel_spectrogram, ((0, 0), (0, pad_width)), mode='constant')\n",
    "            elif mel_spectrogram.shape[1] > FIXED_LENGTH:\n",
    "                mel_spectrogram = mel_spectrogram[:, :FIXED_LENGTH]\n",
    "\n",
    "            # Convert to PyTorch tensor\n",
    "            mel_spectrogram = torch.tensor(mel_spectrogram, dtype=torch.float32)\n",
    "            mel_spectrogram = mel_spectrogram.unsqueeze(0)  # Add channel dimension\n",
    "\n",
    "            return mel_spectrogram, torch.tensor(label, dtype=torch.long)\n",
    "\n",
    "        except Exception as e:\n",
    "            print(f\"Error processing {file_path}: {e}\")\n",
    "            return None\n",
    "\n",
    "# Custom collate function to handle None samples\n",
    "def collate_fn(batch):\n",
    "    batch = [b for b in batch if b is not None]\n",
    "    if len(batch) == 0:\n",
    "        return torch.empty(0), torch.empty(0)\n",
    "    return torch.utils.data.dataloader.default_collate(batch)\n",
    "\n",
    "# Load dataset\n",
    "train_dataset = AudioDataset(\"The Fake-or-Real Dataset /for-norm/for-norm/training\")\n",
    "val_dataset = AudioDataset(\"The Fake-or-Real Dataset /for-norm/for-norm/validation\")\n",
    "\n",
    "train_loader = DataLoader(train_dataset, batch_size=BATCH_SIZE, shuffle=True, collate_fn=collate_fn)\n",
    "val_loader = DataLoader(val_dataset, batch_size=BATCH_SIZE, shuffle=False, collate_fn=collate_fn)\n",
    "\n",
    "# Define CNN Model with Dropout\n",
    "class AudioCNN(nn.Module):\n",
    "    def __init__(self):\n",
    "        super(AudioCNN, self).__init__()\n",
    "        self.conv1 = nn.Conv2d(1, 32, kernel_size=3, stride=1, padding=1)\n",
    "        self.conv2 = nn.Conv2d(32, 64, kernel_size=3, stride=1, padding=1)\n",
    "        self.conv3 = nn.Conv2d(64, 128, kernel_size=3, stride=1, padding=1)\n",
    "        self.pool = nn.MaxPool2d(2, 2)\n",
    "        self.dropout = nn.Dropout(0.5)  # Dropout with 50% probability\n",
    "        self.fc1 = nn.Linear(128 * (N_MELS // 8) * (FIXED_LENGTH // 8), 256)  \n",
    "        self.fc2 = nn.Linear(256, 2)  \n",
    "\n",
    "    def forward(self, x):\n",
    "        x = self.pool(torch.relu(self.conv1(x)))\n",
    "        x = self.pool(torch.relu(self.conv2(x)))\n",
    "        x = self.pool(torch.relu(self.conv3(x)))\n",
    "        x = self.dropout(x)  # Apply dropout after convolution layers\n",
    "        x = x.view(x.size(0), -1)  \n",
    "        x = torch.relu(self.fc1(x))\n",
    "        x = self.dropout(x)  # Apply dropout before the final layer\n",
    "        x = self.fc2(x)\n",
    "        return x\n",
    "\n",
    "# Initialize Model, Loss, Optimizer with L2 Regularization\n",
    "model = AudioCNN().to(DEVICE)\n",
    "criterion = nn.CrossEntropyLoss()\n",
    "optimizer = optim.Adam(model.parameters(), lr=0.001, weight_decay=1e-4)  # L2 Regularization\n",
    "\n",
    "# Training with Early Stopping\n",
    "num_epochs = 20\n",
    "best_val_loss = float(\"inf\")\n",
    "patience = 5\n",
    "counter = 0\n",
    "\n",
    "train_losses, val_losses = [], []\n",
    "train_accuracies, val_accuracies = [], []\n",
    "\n",
    "for epoch in range(num_epochs):\n",
    "    model.train()\n",
    "    running_loss, correct, total = 0.0, 0, 0\n",
    "\n",
    "    for inputs, labels in tqdm(train_loader, desc=f\"Epoch {epoch+1}/{num_epochs}\"):\n",
    "        inputs, labels = inputs.to(DEVICE), labels.to(DEVICE)\n",
    "        optimizer.zero_grad()\n",
    "        outputs = model(inputs)\n",
    "        loss = criterion(outputs, labels)\n",
    "        loss.backward()\n",
    "        optimizer.step()\n",
    "        \n",
    "        running_loss += loss.item()\n",
    "        _, predicted = torch.max(outputs, 1)\n",
    "        correct += (predicted == labels).sum().item()\n",
    "        total += labels.size(0)\n",
    "\n",
    "    train_loss = running_loss / len(train_loader)\n",
    "    train_acc = 100 * correct / total\n",
    "    train_losses.append(train_loss)\n",
    "    train_accuracies.append(train_acc)\n",
    "\n",
    "    # Validation\n",
    "    model.eval()\n",
    "    val_loss, correct, total = 0.0, 0, 0\n",
    "    val_preds, val_labels = [], []\n",
    "\n",
    "    with torch.no_grad():\n",
    "        for inputs, labels in val_loader:\n",
    "            inputs, labels = inputs.to(DEVICE), labels.to(DEVICE)\n",
    "            outputs = model(inputs)\n",
    "            loss = criterion(outputs, labels)\n",
    "            val_loss += loss.item()\n",
    "            _, predicted = torch.max(outputs, 1)\n",
    "            correct += (predicted == labels).sum().item()\n",
    "            total += labels.size(0)\n",
    "\n",
    "            val_preds.extend(predicted.cpu().numpy())\n",
    "            val_labels.extend(labels.cpu().numpy())\n",
    "\n",
    "    val_loss /= len(val_loader)\n",
    "    val_acc = 100 * correct / total\n",
    "    val_losses.append(val_loss)\n",
    "    val_accuracies.append(val_acc)\n",
    "\n",
    "    print(f\"Epoch {epoch+1} - Train Loss: {train_loss:.4f}, Train Acc: {train_acc:.2f}%, Val Loss: {val_loss:.4f}, Val Acc: {val_acc:.2f}%\")\n",
    "\n",
    "    # Early stopping\n",
    "    if val_loss < best_val_loss:\n",
    "        best_val_loss = val_loss\n",
    "        counter = 0\n",
    "        torch.save(model.state_dict(), \"best_model.pth\")\n",
    "    else:\n",
    "        counter += 1\n",
    "        if counter >= patience:\n",
    "            print(\"Early stopping triggered.\")\n",
    "            break\n",
    "\n",
    "# Final Evaluation Metrics\n",
    "print(\"\\nFinal Evaluation:\")\n",
    "print(f\"Precision: {precision_score(val_labels, val_preds, average='macro'):.4f}\")\n",
    "print(f\"Recall: {recall_score(val_labels, val_preds, average='macro'):.4f}\")\n",
    "print(f\"F1 Score: {f1_score(val_labels, val_preds, average='macro'):.4f}\")\n",
    "print(\"\\nConfusion Matrix:\\n\", confusion_matrix(val_labels, val_preds))\n",
    "\n",
    "# Plot Train vs Validation Loss\n",
    "plt.figure(figsize=(8, 5))\n",
    "plt.plot(range(1, len(train_losses) + 1), train_losses, label=\"Train Loss\")\n",
    "plt.plot(range(1, len(val_losses) + 1), val_losses, label=\"Validation Loss\")\n",
    "plt.xlabel(\"Epochs\")\n",
    "plt.ylabel(\"Loss\")\n",
    "plt.legend()\n",
    "plt.title(\"Train vs Validation Loss\")\n",
    "plt.show()\n",
    "\n",
    "# Plot Train vs Validation Accuracy\n",
    "plt.figure(figsize=(8, 5))\n",
    "plt.plot(range(1, len(train_accuracies) + 1), train_accuracies, label=\"Train Accuracy\")\n",
    "plt.plot(range(1, len(val_accuracies) + 1), val_accuracies, label=\"Validation Accuracy\")\n",
    "plt.xlabel(\"Epochs\")\n",
    "plt.ylabel(\"Accuracy (%)\")\n",
    "plt.legend()\n",
    "plt.title(\"Train vs Validation Accuracy\")\n",
    "plt.show()\n",
    "\n"
   ]
  },
  {
   "cell_type": "markdown",
   "metadata": {},
   "source": [
    "Testing"
   ]
  },
  {
   "cell_type": "code",
   "execution_count": 59,
   "metadata": {},
   "outputs": [
    {
     "name": "stderr",
     "output_type": "stream",
     "text": [
      "Testing: 100%|██████████| 145/145 [00:29<00:00,  4.93it/s, loss=4]      \n"
     ]
    },
    {
     "name": "stdout",
     "output_type": "stream",
     "text": [
      "\n",
      "Test Loss: 1.7425\n",
      "Accuracy: 0.6204\n",
      "Precision: 1.0000\n",
      "Recall: 0.2578\n",
      "F1 Score: 0.4099\n"
     ]
    },
    {
     "data": {
      "image/png": "[encoded data removed]",
      "text/plain": [
       "<Figure size 600x500 with 2 Axes>"
      ]
     },
     "metadata": {},
     "output_type": "display_data"
    }
   ],
   "source": [
    "import torch\n",
    "import torch.nn as nn\n",
    "import numpy as np\n",
    "import matplotlib.pyplot as plt\n",
    "import seaborn as sns\n",
    "from tqdm import tqdm\n",
    "from sklearn.metrics import accuracy_score, precision_score, recall_score, f1_score, confusion_matrix\n",
    "from torch.utils.data import DataLoader\n",
    "import librosa\n",
    "import os\n",
    "\n",
    "# Define Constants\n",
    "SAMPLE_RATE = 16000\n",
    "N_MELS = 128\n",
    "FIXED_LENGTH = 256\n",
    "BATCH_SIZE = 32\n",
    "DEVICE = torch.device(\"cuda\" if torch.cuda.is_available() else \"cpu\")\n",
    "\n",
    "# Define Dataset for Testing\n",
    "class AudioDataset(torch.utils.data.Dataset):\n",
    "    def __init__(self, root_dir):\n",
    "        self.data = []\n",
    "        self.labels = []\n",
    "        self.root_dir = root_dir\n",
    "        self.classes = [\"real\", \"fake\"]\n",
    "\n",
    "        for label, class_name in enumerate(self.classes):\n",
    "            class_path = os.path.join(root_dir, class_name)\n",
    "            for file in os.listdir(class_path):\n",
    "                file_path = os.path.join(class_path, file)\n",
    "                self.data.append(file_path)\n",
    "                self.labels.append(label)\n",
    "\n",
    "    def __len__(self):\n",
    "        return len(self.data)\n",
    "\n",
    "    def __getitem__(self, idx):\n",
    "        file_path, label = self.data[idx], self.labels[idx]\n",
    "        try:\n",
    "            y, sr = librosa.load(file_path, sr=SAMPLE_RATE)\n",
    "\n",
    "            if len(y) == 0:\n",
    "                print(f\"Skipping empty file: {file_path}\")\n",
    "                return None\n",
    "\n",
    "            mel_spec = librosa.feature.melspectrogram(y=y, sr=sr, n_mels=N_MELS)\n",
    "            mel_spec = librosa.power_to_db(mel_spec, ref=np.max)\n",
    "\n",
    "            if mel_spec.shape[1] < FIXED_LENGTH:\n",
    "                pad_width = FIXED_LENGTH - mel_spec.shape[1]\n",
    "                mel_spec = np.pad(mel_spec, ((0, 0), (0, pad_width)), mode='constant')\n",
    "            elif mel_spec.shape[1] > FIXED_LENGTH:\n",
    "                mel_spec = mel_spec[:, :FIXED_LENGTH]\n",
    "\n",
    "            mel_spec = torch.tensor(mel_spec, dtype=torch.float32).unsqueeze(0)  # Add channel dimension\n",
    "\n",
    "            return mel_spec, torch.tensor(label, dtype=torch.long)\n",
    "\n",
    "        except Exception as e:\n",
    "            print(f\"Error processing {file_path}: {e}\")\n",
    "            return None\n",
    "\n",
    "# Custom collate function to handle None samples\n",
    "def collate_fn(batch):\n",
    "    batch = [b for b in batch if b is not None]\n",
    "    if len(batch) == 0:\n",
    "        return torch.empty(0), torch.empty(0)\n",
    "    return torch.utils.data.dataloader.default_collate(batch)\n",
    "\n",
    "# Load test dataset\n",
    "test_dataset = AudioDataset(\"The Fake-or-Real Dataset /for-norm/for-norm/testing\")\n",
    "test_loader = DataLoader(test_dataset, batch_size=BATCH_SIZE, shuffle=False, collate_fn=collate_fn)\n",
    "\n",
    "# Define Model (Same as in Training)\n",
    "class AudioCNN(nn.Module):\n",
    "    def __init__(self):\n",
    "        super(AudioCNN, self).__init__()\n",
    "        self.conv1 = nn.Conv2d(1, 32, kernel_size=3, stride=1, padding=1)\n",
    "        self.conv2 = nn.Conv2d(32, 64, kernel_size=3, stride=1, padding=1)\n",
    "        self.conv3 = nn.Conv2d(64, 128, kernel_size=3, stride=1, padding=1)\n",
    "        self.pool = nn.MaxPool2d(2, 2)\n",
    "        self.dropout = nn.Dropout(0.5)\n",
    "        self.fc1 = nn.Linear(128 * (N_MELS // 8) * (FIXED_LENGTH // 8), 256)\n",
    "        self.fc2 = nn.Linear(256, 2)\n",
    "\n",
    "    def forward(self, x):\n",
    "        x = self.pool(torch.relu(self.conv1(x)))\n",
    "        x = self.pool(torch.relu(self.conv2(x)))\n",
    "        x = self.pool(torch.relu(self.conv3(x)))\n",
    "        x = self.dropout(x)\n",
    "        x = x.view(x.size(0), -1)\n",
    "        x = torch.relu(self.fc1(x))\n",
    "        x = self.dropout(x)\n",
    "        x = self.fc2(x)\n",
    "        return x\n",
    "\n",
    "# Load the trained model\n",
    "model = AudioCNN().to(DEVICE)\n",
    "model.load_state_dict(torch.load(\"best_model.pth\", map_location=DEVICE))\n",
    "model.eval()\n",
    "\n",
    "# Test Loop with Progress Bar\n",
    "all_preds, all_labels = [], []\n",
    "test_loss = 0.0\n",
    "criterion = nn.CrossEntropyLoss()\n",
    "\n",
    "with torch.no_grad():\n",
    "    loop = tqdm(test_loader, desc=\"Testing\", leave=True)\n",
    "    \n",
    "    for inputs, labels in loop:\n",
    "        inputs, labels = inputs.to(DEVICE), labels.to(DEVICE)\n",
    "        outputs = model(inputs)\n",
    "        loss = criterion(outputs, labels)\n",
    "\n",
    "        preds = outputs.argmax(dim=1)\n",
    "\n",
    "        all_preds.extend(preds.cpu().numpy())\n",
    "        all_labels.extend(labels.cpu().numpy())\n",
    "\n",
    "        test_loss += loss.item()\n",
    "        loop.set_postfix(loss=loss.item())\n",
    "\n",
    "# Compute Metrics\n",
    "accuracy = accuracy_score(all_labels, all_preds)\n",
    "precision = precision_score(all_labels, all_preds, average=\"binary\")\n",
    "recall = recall_score(all_labels, all_preds, average=\"binary\")\n",
    "f1 = f1_score(all_labels, all_preds, average=\"binary\")\n",
    "conf_mat = confusion_matrix(all_labels, all_preds)\n",
    "\n",
    "# Print Metrics\n",
    "print(f\"\\nTest Loss: {test_loss / len(test_loader):.4f}\")\n",
    "print(f\"Accuracy: {accuracy:.4f}\")\n",
    "print(f\"Precision: {precision:.4f}\")\n",
    "print(f\"Recall: {recall:.4f}\")\n",
    "print(f\"F1 Score: {f1:.4f}\")\n",
    "\n",
    "# Plot Confusion Matrix\n",
    "plt.figure(figsize=(6, 5))\n",
    "sns.heatmap(conf_mat, annot=True, fmt=\"d\", cmap=\"Blues\", xticklabels=[\"Real\", \"Fake\"], yticklabels=[\"Real\", \"Fake\"])\n",
    "plt.xlabel(\"Predicted\")\n",
    "plt.ylabel(\"Actual\")\n",
    "plt.title(\"Confusion Matrix\")\n",
    "plt.show()\n"
   ]
  },
  {
   "cell_type": "markdown",
   "metadata": {},
   "source": [
    "CRNN"
   ]
  },
  {
   "cell_type": "code",
   "execution_count": null,
   "metadata": {},
   "outputs": [
    {
     "name": "stderr",
     "output_type": "stream",
     "text": [
      "Epoch 1/20 [Training]:  18%|█▊        | 296/1684 [02:04<09:25,  2.45it/s, loss=0.249]/opt/homebrew/anaconda3/envs/myenv/lib/python3.11/site-packages/librosa/core/spectrum.py:266: UserWarning: n_fft=2048 is too large for input signal of length=1837\n",
      "  warnings.warn(\n",
      "Epoch 1/20 [Training]:  66%|██████▌   | 1111/1684 [07:48<03:57,  2.42it/s, loss=0.625]/opt/homebrew/anaconda3/envs/myenv/lib/python3.11/site-packages/librosa/core/spectrum.py:266: UserWarning: n_fft=2048 is too large for input signal of length=0\n",
      "  warnings.warn(\n",
      "Epoch 1/20 [Training]:  68%|██████▊   | 1145/1684 [08:02<03:46,  2.38it/s, loss=0.663]/opt/homebrew/anaconda3/envs/myenv/lib/python3.11/site-packages/librosa/core/spectrum.py:266: UserWarning: n_fft=2048 is too large for input signal of length=1891\n",
      "  warnings.warn(\n",
      "Epoch 1/20 [Training]: 100%|██████████| 1684/1684 [11:47<00:00,  2.38it/s, loss=0.741]\n",
      "Epoch 1/20 [Validation]:  38%|███▊      | 127/338 [00:26<00:44,  4.73it/s, loss=0.278]/opt/homebrew/anaconda3/envs/myenv/lib/python3.11/site-packages/librosa/core/spectrum.py:266: UserWarning: n_fft=2048 is too large for input signal of length=1690\n",
      "  warnings.warn(\n",
      "Epoch 1/20 [Validation]: 100%|██████████| 338/338 [01:05<00:00,  5.12it/s, loss=0.605]\n"
     ]
    },
    {
     "name": "stdout",
     "output_type": "stream",
     "text": [
      "Epoch 1/20 - Train Loss: 0.3559, Train Acc: 84.64%, Val Loss: 0.3810, Val Acc: 83.66%\n"
     ]
    },
    {
     "name": "stderr",
     "output_type": "stream",
     "text": [
      "Epoch 2/20 [Training]: 100%|██████████| 1684/1684 [11:48<00:00,  2.38it/s, loss=0.308] \n",
      "Epoch 2/20 [Validation]: 100%|██████████| 338/338 [01:07<00:00,  5.03it/s, loss=0.432]\n"
     ]
    },
    {
     "name": "stdout",
     "output_type": "stream",
     "text": [
      "Epoch 2/20 - Train Loss: 0.3554, Train Acc: 84.75%, Val Loss: 0.3667, Val Acc: 84.02%\n"
     ]
    },
    {
     "name": "stderr",
     "output_type": "stream",
     "text": [
      "Epoch 3/20 [Training]: 100%|██████████| 1684/1684 [11:43<00:00,  2.39it/s, loss=0.153]\n",
      "Epoch 3/20 [Validation]: 100%|██████████| 338/338 [01:05<00:00,  5.15it/s, loss=0.352]\n"
     ]
    },
    {
     "name": "stdout",
     "output_type": "stream",
     "text": [
      "Epoch 3/20 - Train Loss: 0.3533, Train Acc: 84.87%, Val Loss: 0.3589, Val Acc: 83.97%\n"
     ]
    },
    {
     "name": "stderr",
     "output_type": "stream",
     "text": [
      "Epoch 4/20 [Training]: 100%|██████████| 1684/1684 [11:35<00:00,  2.42it/s, loss=0.294] \n",
      "Epoch 4/20 [Validation]: 100%|██████████| 338/338 [01:06<00:00,  5.09it/s, loss=0.533]\n"
     ]
    },
    {
     "name": "stdout",
     "output_type": "stream",
     "text": [
      "Epoch 4/20 - Train Loss: 0.3522, Train Acc: 84.95%, Val Loss: 0.3642, Val Acc: 84.65%\n"
     ]
    },
    {
     "name": "stderr",
     "output_type": "stream",
     "text": [
      "Epoch 5/20 [Training]: 100%|██████████| 1684/1684 [11:38<00:00,  2.41it/s, loss=0.453]\n",
      "Epoch 5/20 [Validation]: 100%|██████████| 338/338 [01:04<00:00,  5.21it/s, loss=0.418]\n"
     ]
    },
    {
     "name": "stdout",
     "output_type": "stream",
     "text": [
      "Epoch 5/20 - Train Loss: 0.3521, Train Acc: 85.03%, Val Loss: 0.3563, Val Acc: 84.94%\n"
     ]
    },
    {
     "name": "stderr",
     "output_type": "stream",
     "text": [
      "Epoch 6/20 [Training]: 100%|██████████| 1684/1684 [11:35<00:00,  2.42it/s, loss=0.513] \n",
      "Epoch 6/20 [Validation]: 100%|██████████| 338/338 [01:04<00:00,  5.26it/s, loss=0.543]\n"
     ]
    },
    {
     "name": "stdout",
     "output_type": "stream",
     "text": [
      "Epoch 6/20 - Train Loss: 0.3509, Train Acc: 84.96%, Val Loss: 0.3704, Val Acc: 84.85%\n"
     ]
    },
    {
     "name": "stderr",
     "output_type": "stream",
     "text": [
      "Epoch 7/20 [Training]: 100%|██████████| 1684/1684 [11:39<00:00,  2.41it/s, loss=0.679]\n",
      "Epoch 7/20 [Validation]: 100%|██████████| 338/338 [01:08<00:00,  4.95it/s, loss=0.464]\n"
     ]
    },
    {
     "name": "stdout",
     "output_type": "stream",
     "text": [
      "Epoch 7/20 - Train Loss: 0.3526, Train Acc: 84.80%, Val Loss: 0.3572, Val Acc: 84.46%\n"
     ]
    },
    {
     "name": "stderr",
     "output_type": "stream",
     "text": [
      "Epoch 8/20 [Training]: 100%|██████████| 1684/1684 [11:49<00:00,  2.37it/s, loss=0.676]\n",
      "Epoch 8/20 [Validation]: 100%|██████████| 338/338 [01:05<00:00,  5.18it/s, loss=0.493]\n"
     ]
    },
    {
     "name": "stdout",
     "output_type": "stream",
     "text": [
      "Epoch 8/20 - Train Loss: 0.3553, Train Acc: 84.86%, Val Loss: 0.3680, Val Acc: 83.48%\n"
     ]
    },
    {
     "name": "stderr",
     "output_type": "stream",
     "text": [
      "Epoch 9/20 [Training]: 100%|██████████| 1684/1684 [11:50<00:00,  2.37it/s, loss=0.288] \n",
      "Epoch 9/20 [Validation]: 100%|██████████| 338/338 [01:04<00:00,  5.22it/s, loss=0.351]\n"
     ]
    },
    {
     "name": "stdout",
     "output_type": "stream",
     "text": [
      "Epoch 9/20 - Train Loss: 0.3530, Train Acc: 84.89%, Val Loss: 0.3727, Val Acc: 84.08%\n"
     ]
    },
    {
     "name": "stderr",
     "output_type": "stream",
     "text": [
      "Epoch 10/20 [Training]: 100%|██████████| 1684/1684 [11:48<00:00,  2.38it/s, loss=0.262]\n",
      "Epoch 10/20 [Validation]: 100%|██████████| 338/338 [01:06<00:00,  5.08it/s, loss=0.372]"
     ]
    },
    {
     "name": "stdout",
     "output_type": "stream",
     "text": [
      "Epoch 10/20 - Train Loss: 0.3507, Train Acc: 85.01%, Val Loss: 0.3594, Val Acc: 84.85%\n",
      "Early stopping triggered.\n",
      "Precision: 0.8235, Recall: 0.8870, F1-Score: 0.8541\n"
     ]
    },
    {
     "name": "stderr",
     "output_type": "stream",
     "text": [
      "\n"
     ]
    },
    {
     "data": {
      "image/png": "[encoded data removed]",
      "text/plain": [
       "<Figure size 800x500 with 1 Axes>"
      ]
     },
     "metadata": {},
     "output_type": "display_data"
    },
    {
     "data": {
      "image/png": "[encoded data removed]",
      "text/plain": [
       "<Figure size 640x480 with 2 Axes>"
      ]
     },
     "metadata": {},
     "output_type": "display_data"
    }
   ],
   "source": [
    "import os\n",
    "import torch\n",
    "import librosa\n",
    "import numpy as np\n",
    "import torch.nn as nn\n",
    "import torch.optim as optim\n",
    "import matplotlib.pyplot as plt\n",
    "import seaborn as sns\n",
    "from tqdm import tqdm\n",
    "from sklearn.metrics import confusion_matrix, precision_recall_fscore_support\n",
    "from torch.utils.data import Dataset, DataLoader\n",
    "from torch.optim.lr_scheduler import ReduceLROnPlateau\n",
    "\n",
    "# Define constants\n",
    "SAMPLE_RATE = 16000\n",
    "N_MELS = 128\n",
    "FIXED_LENGTH = 256\n",
    "BATCH_SIZE = 32\n",
    "EPOCHS = 20\n",
    "PATIENCE = 5  # Early stopping patience\n",
    "\n",
    "# Custom Dataset\n",
    "class AudioDataset(Dataset):\n",
    "    def __init__(self, root_dir):\n",
    "        self.data = []\n",
    "        self.labels = []\n",
    "        self.root_dir = root_dir\n",
    "        self.classes = [\"real\", \"fake\"]\n",
    "\n",
    "        for label, class_name in enumerate(self.classes):\n",
    "            class_path = os.path.join(root_dir, class_name)\n",
    "            for file in os.listdir(class_path):\n",
    "                file_path = os.path.join(class_path, file)\n",
    "                self.data.append(file_path)\n",
    "                self.labels.append(label)\n",
    "\n",
    "    def __len__(self):\n",
    "        return len(self.data)\n",
    "\n",
    "    def __getitem__(self, idx):\n",
    "        file_path, label = self.data[idx], self.labels[idx]\n",
    "        try:\n",
    "            y, sr = librosa.load(file_path, sr=SAMPLE_RATE)\n",
    "            mel_spec = librosa.feature.melspectrogram(y=y, sr=sr, n_mels=N_MELS)\n",
    "            mel_spec = librosa.power_to_db(mel_spec, ref=np.max)\n",
    "\n",
    "            # Ensure the spectrogram has a fixed shape (128, 256)\n",
    "            mel_spec = np.pad(mel_spec, ((0, 0), (0, max(0, FIXED_LENGTH - mel_spec.shape[1]))), mode=\"constant\")[:, :FIXED_LENGTH]\n",
    "\n",
    "            # Convert to PyTorch tensor and add a channel dimension\n",
    "            mel_spec = torch.tensor(mel_spec, dtype=torch.float32).unsqueeze(0)  # Shape: (1, 128, 256)\n",
    "\n",
    "            return mel_spec, torch.tensor(label, dtype=torch.long)\n",
    "        except:\n",
    "            return None\n",
    "\n",
    "# Custom collate function to skip None samples\n",
    "def collate_fn(batch):\n",
    "    batch = [b for b in batch if b is not None]\n",
    "    if len(batch) == 0:\n",
    "        return torch.empty(0), torch.empty(0)\n",
    "    return torch.utils.data.dataloader.default_collate(batch)\n",
    "\n",
    "# Load dataset\n",
    "train_dataset = AudioDataset(\"The Fake-or-Real Dataset /for-norm/for-norm/training\")\n",
    "val_dataset = AudioDataset(\"The Fake-or-Real Dataset /for-norm/for-norm/validation\")\n",
    "\n",
    "train_loader = DataLoader(train_dataset, batch_size=BATCH_SIZE, shuffle=True, collate_fn=collate_fn)\n",
    "val_loader = DataLoader(val_dataset, batch_size=BATCH_SIZE, shuffle=False, collate_fn=collate_fn)\n",
    "\n",
    "# CRNN Model with Dropout & L2 Regularization\n",
    "class CRNN(nn.Module):\n",
    "    def __init__(self, num_classes=2):\n",
    "        super(CRNN, self).__init__()\n",
    "        \n",
    "        # Convolutional layers\n",
    "        self.conv = nn.Sequential(\n",
    "            nn.Conv2d(1, 32, kernel_size=(3, 3), stride=1, padding=1),\n",
    "            nn.ReLU(),\n",
    "            nn.MaxPool2d(kernel_size=(2, 2)),  # (batch, 32, 64, 128)\n",
    "            nn.Conv2d(32, 64, kernel_size=(3, 3), stride=1, padding=1),\n",
    "            nn.ReLU(),\n",
    "            nn.MaxPool2d(kernel_size=(2, 2)),  # (batch, 64, 32, 64)\n",
    "            nn.Dropout(0.3)\n",
    "        )\n",
    "\n",
    "        # LSTM layer\n",
    "        self.lstm = nn.LSTM(input_size=64 * 64,  # Corrected: 4096\n",
    "                            hidden_size=128, num_layers=2, \n",
    "                            batch_first=True, bidirectional=True)\n",
    "\n",
    "        # Fully connected layer\n",
    "        self.fc = nn.Linear(128 * 2, num_classes)\n",
    "\n",
    "    def forward(self, x):\n",
    "        x = self.conv(x)  # (batch, 64, 32, 64)\n",
    "        x = x.permute(0, 2, 3, 1)  # (batch, time_steps=32, width=64, channels=64)\n",
    "        x = x.reshape(x.shape[0], x.shape[1], -1)  # (batch, time_steps=32, features=64*64=4096)\n",
    "        x, _ = self.lstm(x)  # Now correctly passes into LSTM\n",
    "        x = self.fc(x[:, -1, :])  # Take last time-step output\n",
    "        return x\n",
    "\n",
    "# Initialize model, loss, and optimizer\n",
    "device = torch.device(\"cuda\" if torch.cuda.is_available() else \"cpu\")\n",
    "model = CRNN().to(device)\n",
    "criterion = nn.CrossEntropyLoss()\n",
    "optimizer = optim.Adam(model.parameters(), lr=0.001, weight_decay=1e-4)  # L2 Regularization\n",
    "scheduler = ReduceLROnPlateau(optimizer, mode='min', factor=0.5, patience=3)\n",
    "\n",
    "# Training with Early Stopping\n",
    "best_val_loss = float(\"inf\")\n",
    "patience_counter = 0\n",
    "train_losses, val_losses = [], []\n",
    "\n",
    "for epoch in range(EPOCHS):\n",
    "    model.train()\n",
    "    running_loss, correct, total = 0.0, 0, 0\n",
    "\n",
    "    train_bar = tqdm(train_loader, desc=f\"Epoch {epoch+1}/{EPOCHS} [Training]\")  # Progress bar\n",
    "    for inputs, labels in train_bar:\n",
    "        inputs, labels = inputs.to(device), labels.to(device)\n",
    "        optimizer.zero_grad()\n",
    "        outputs = model(inputs)\n",
    "        loss = criterion(outputs, labels)\n",
    "        loss.backward()\n",
    "        optimizer.step()\n",
    "\n",
    "        running_loss += loss.item() * inputs.size(0)\n",
    "        correct += (outputs.argmax(dim=1) == labels).sum().item()\n",
    "        total += labels.size(0)\n",
    "\n",
    "        train_bar.set_postfix(loss=loss.item())\n",
    "\n",
    "    train_loss = running_loss / total\n",
    "    train_acc = correct / total\n",
    "    train_losses.append(train_loss)\n",
    "\n",
    "    # Validation\n",
    "    model.eval()\n",
    "    val_loss, val_correct, val_total = 0.0, 0, 0\n",
    "    all_preds, all_labels = [], []\n",
    "\n",
    "    val_bar = tqdm(val_loader, desc=f\"Epoch {epoch+1}/{EPOCHS} [Validation]\")  # Progress bar\n",
    "    with torch.no_grad():\n",
    "        for inputs, labels in val_bar:\n",
    "            inputs, labels = inputs.to(device), labels.to(device)\n",
    "            outputs = model(inputs)\n",
    "            loss = criterion(outputs, labels)\n",
    "\n",
    "            val_loss += loss.item() * inputs.size(0)\n",
    "            val_correct += (outputs.argmax(dim=1) == labels).sum().item()\n",
    "            val_total += labels.size(0)\n",
    "\n",
    "            all_preds.extend(outputs.argmax(dim=1).cpu().numpy())\n",
    "            all_labels.extend(labels.cpu().numpy())\n",
    "\n",
    "            val_bar.set_postfix(loss=loss.item())\n",
    "\n",
    "    val_loss /= val_total\n",
    "    val_acc = val_correct / val_total\n",
    "    val_losses.append(val_loss)\n",
    "\n",
    "    print(f\"Epoch {epoch+1}/{EPOCHS} - Train Loss: {train_loss:.4f}, Train Acc: {train_acc*100:.2f}%, Val Loss: {val_loss:.4f}, Val Acc: {val_acc*100:.2f}%\")\n",
    "    if val_loss < best_val_loss:\n",
    "        best_val_loss = val_loss\n",
    "        patience_counter = 0\n",
    "    else:\n",
    "        patience_counter += 1\n",
    "        if patience_counter >= PATIENCE:\n",
    "            print(\"Early stopping triggered.\")\n",
    "            break\n",
    "\n",
    "    scheduler.step(val_loss)\n",
    "\n",
    "# Performance Metrics\n",
    "precision, recall, f1, _ = precision_recall_fscore_support(all_labels, all_preds, average='binary')\n",
    "print(f\"Precision: {precision:.4f}, Recall: {recall:.4f}, F1-Score: {f1:.4f}\")\n",
    "\n",
    "# Plot Training vs Validation Loss\n",
    "plt.figure(figsize=(8, 5))\n",
    "plt.plot(train_losses, label=\"Train Loss\", marker='o')\n",
    "plt.plot(val_losses, label=\"Val Loss\", marker='o')\n",
    "plt.xlabel(\"Epochs\")\n",
    "plt.ylabel(\"Loss\")\n",
    "plt.legend()\n",
    "plt.title(\"Training vs Validation Loss\")\n",
    "plt.grid()\n",
    "plt.show()\n",
    "\n",
    "# Confusion Matrix\n",
    "conf_mat = confusion_matrix(all_labels, all_preds)\n",
    "sns.heatmap(conf_mat, annot=True, fmt=\"d\", cmap=\"Blues\")\n",
    "plt.show()\n"
   ]
  },
  {
   "cell_type": "code",
   "execution_count": 47,
   "metadata": {},
   "outputs": [],
   "source": [
    "torch.save(model.state_dict(), \"crnn_best.pth\")\n"
   ]
  },
  {
   "cell_type": "markdown",
   "metadata": {},
   "source": [
    "Testing"
   ]
  },
  {
   "cell_type": "code",
   "execution_count": 67,
   "metadata": {},
   "outputs": [
    {
     "name": "stderr",
     "output_type": "stream",
     "text": [
      "Testing Model: 100%|██████████| 145/145 [00:26<00:00,  5.57it/s]"
     ]
    },
    {
     "name": "stdout",
     "output_type": "stream",
     "text": [
      "Accuracy: 0.3770\n",
      "Precision: 0.4302\n",
      "Recall: 0.6717\n",
      "F1-Score: 0.5245\n"
     ]
    },
    {
     "name": "stderr",
     "output_type": "stream",
     "text": [
      "\n"
     ]
    },
    {
     "data": {
      "image/png": "[encoded data removed]",
      "text/plain": [
       "<Figure size 600x500 with 2 Axes>"
      ]
     },
     "metadata": {},
     "output_type": "display_data"
    }
   ],
   "source": [
    "from sklearn.metrics import accuracy_score, precision_recall_fscore_support, confusion_matrix\n",
    "import seaborn as sns\n",
    "import matplotlib.pyplot as plt\n",
    "from tqdm import tqdm\n",
    "\n",
    "# Load best model\n",
    "model.load_state_dict(torch.load(\"best_model.pth\"), strict=False)\n",
    "model.to(device)\n",
    "model.eval()\n",
    "\n",
    "# Initialize lists to store predictions and true labels\n",
    "all_preds, all_labels = [], []\n",
    "\n",
    "# Test DataLoader\n",
    "test_dataset = AudioDataset(\"The Fake-or-Real Dataset /for-norm/for-norm/testing\")\n",
    "test_loader = DataLoader(test_dataset, batch_size=BATCH_SIZE, shuffle=False, collate_fn=collate_fn)\n",
    "\n",
    "# Test Progress Bar\n",
    "test_bar = tqdm(test_loader, desc=\"Testing Model\")\n",
    "\n",
    "with torch.no_grad():\n",
    "    for inputs, labels in test_bar:\n",
    "        inputs, labels = inputs.to(device), labels.to(device)\n",
    "        outputs = model(inputs)\n",
    "        preds = outputs.argmax(dim=1)\n",
    "\n",
    "        all_preds.extend(preds.cpu().numpy())\n",
    "        all_labels.extend(labels.cpu().numpy())\n",
    "\n",
    "# Compute Performance Metrics\n",
    "accuracy = accuracy_score(all_labels, all_preds)\n",
    "precision, recall, f1, _ = precision_recall_fscore_support(all_labels, all_preds, average='binary')\n",
    "\n",
    "# Print Results\n",
    "print(f\"Accuracy: {accuracy:.4f}\")\n",
    "print(f\"Precision: {precision:.4f}\")\n",
    "print(f\"Recall: {recall:.4f}\")\n",
    "print(f\"F1-Score: {f1:.4f}\")\n",
    "\n",
    "# Confusion Matrix\n",
    "conf_mat = confusion_matrix(all_labels, all_preds)\n",
    "plt.figure(figsize=(6, 5))\n",
    "sns.heatmap(conf_mat, annot=True, fmt=\"d\", cmap=\"Blues\", xticklabels=[\"Real\", \"Fake\"], yticklabels=[\"Real\", \"Fake\"])\n",
    "plt.xlabel(\"Predicted Label\")\n",
    "plt.ylabel(\"True Label\")\n",
    "plt.title(\"Confusion Matrix\")\n",
    "plt.show()\n"
   ]
  },
  {
   "cell_type": "markdown",
   "metadata": {},
   "source": [
    "ResNet50"
   ]
  },
  {
   "cell_type": "code",
   "execution_count": 50,
   "metadata": {},
   "outputs": [
    {
     "name": "stderr",
     "output_type": "stream",
     "text": [
      "Epoch 1/10 [Training]:  40%|███▉      | 673/1684 [31:30<47:43,  2.83s/it, loss=0.00448]   /opt/homebrew/anaconda3/envs/myenv/lib/python3.11/site-packages/librosa/core/spectrum.py:266: UserWarning: n_fft=2048 is too large for input signal of length=1891\n",
      "  warnings.warn(\n",
      "Epoch 1/10 [Training]:  51%|█████▏    | 866/1684 [40:32<39:47,  2.92s/it, loss=0.0516]  /opt/homebrew/anaconda3/envs/myenv/lib/python3.11/site-packages/librosa/core/spectrum.py:266: UserWarning: n_fft=2048 is too large for input signal of length=0\n",
      "  warnings.warn(\n",
      "Epoch 1/10 [Training]:  60%|█████▉    | 1003/1684 [1:06:20<31:47,  2.80s/it, loss=0.00158]    /opt/homebrew/anaconda3/envs/myenv/lib/python3.11/site-packages/librosa/core/spectrum.py:266: UserWarning: n_fft=2048 is too large for input signal of length=1837\n",
      "  warnings.warn(\n",
      "Epoch 1/10 [Training]: 100%|██████████| 1684/1684 [1:38:16<00:00,  3.50s/it, loss=0.0011]  \n",
      "Epoch 1/10 [Validation]:  38%|███▊      | 127/338 [03:33<05:52,  1.67s/it, loss=0.000105]/opt/homebrew/anaconda3/envs/myenv/lib/python3.11/site-packages/librosa/core/spectrum.py:266: UserWarning: n_fft=2048 is too large for input signal of length=1690\n",
      "  warnings.warn(\n",
      "Epoch 1/10 [Validation]: 100%|██████████| 338/338 [09:24<00:00,  1.67s/it, loss=0.00139] \n"
     ]
    },
    {
     "name": "stdout",
     "output_type": "stream",
     "text": [
      "Epoch 1/10 - Train Loss: 0.0337, Train Acc: 98.79%, Val Loss: 0.0030, Val Acc: 99.93%\n",
      "Model saved successfully as resnet50_best.pth\n"
     ]
    },
    {
     "name": "stderr",
     "output_type": "stream",
     "text": [
      "Epoch 2/10 [Training]: 100%|██████████| 1684/1684 [5:10:05<00:00, 11.05s/it, loss=0.000106]    \n",
      "Epoch 2/10 [Validation]: 100%|██████████| 338/338 [09:59<00:00,  1.77s/it, loss=0.0105]  \n"
     ]
    },
    {
     "name": "stdout",
     "output_type": "stream",
     "text": [
      "Epoch 2/10 - Train Loss: 0.0100, Train Acc: 99.66%, Val Loss: 0.0087, Val Acc: 99.68%\n"
     ]
    },
    {
     "name": "stderr",
     "output_type": "stream",
     "text": [
      "Epoch 3/10 [Training]: 100%|██████████| 1684/1684 [1:23:04<00:00,  2.96s/it, loss=0.000633]\n",
      "Epoch 3/10 [Validation]: 100%|██████████| 338/338 [10:07<00:00,  1.80s/it, loss=0.000128]\n"
     ]
    },
    {
     "name": "stdout",
     "output_type": "stream",
     "text": [
      "Epoch 3/10 - Train Loss: 0.0063, Train Acc: 99.79%, Val Loss: 0.0022, Val Acc: 99.94%\n",
      "Model saved successfully as resnet50_best.pth\n"
     ]
    },
    {
     "name": "stderr",
     "output_type": "stream",
     "text": [
      "Epoch 4/10 [Training]: 100%|██████████| 1684/1684 [1:21:39<00:00,  2.91s/it, loss=0.000135]\n",
      "Epoch 4/10 [Validation]: 100%|██████████| 338/338 [09:28<00:00,  1.68s/it, loss=0.00201] \n"
     ]
    },
    {
     "name": "stdout",
     "output_type": "stream",
     "text": [
      "Epoch 4/10 - Train Loss: 0.0076, Train Acc: 99.77%, Val Loss: 0.0378, Val Acc: 98.85%\n"
     ]
    },
    {
     "name": "stderr",
     "output_type": "stream",
     "text": [
      "Epoch 5/10 [Training]: 100%|██████████| 1684/1684 [10:18:49<00:00, 22.05s/it, loss=0.000803]   \n",
      "Epoch 5/10 [Validation]: 100%|██████████| 338/338 [1:38:11<00:00, 17.43s/it, loss=0.000566]    \n"
     ]
    },
    {
     "name": "stdout",
     "output_type": "stream",
     "text": [
      "Epoch 5/10 - Train Loss: 0.0050, Train Acc: 99.85%, Val Loss: 0.0030, Val Acc: 99.91%\n"
     ]
    },
    {
     "name": "stderr",
     "output_type": "stream",
     "text": [
      "Epoch 6/10 [Training]: 100%|██████████| 1684/1684 [1:42:33<00:00,  3.65s/it, loss=6.68e-6] \n",
      "Epoch 6/10 [Validation]: 100%|██████████| 338/338 [10:14<00:00,  1.82s/it, loss=0.000384]\n"
     ]
    },
    {
     "name": "stdout",
     "output_type": "stream",
     "text": [
      "Epoch 6/10 - Train Loss: 0.0061, Train Acc: 99.81%, Val Loss: 0.0026, Val Acc: 99.93%\n"
     ]
    },
    {
     "name": "stderr",
     "output_type": "stream",
     "text": [
      "Epoch 7/10 [Training]: 100%|██████████| 1684/1684 [1:24:07<00:00,  3.00s/it, loss=3.97e-6] \n",
      "Epoch 7/10 [Validation]: 100%|██████████| 338/338 [49:29<00:00,  8.78s/it, loss=0.00405]    \n"
     ]
    },
    {
     "name": "stdout",
     "output_type": "stream",
     "text": [
      "Epoch 7/10 - Train Loss: 0.0046, Train Acc: 99.86%, Val Loss: 0.0018, Val Acc: 99.94%\n",
      "Model saved successfully as resnet50_best.pth\n"
     ]
    },
    {
     "name": "stderr",
     "output_type": "stream",
     "text": [
      "Epoch 8/10 [Training]: 100%|██████████| 1684/1684 [2:07:30<00:00,  4.54s/it, loss=0.00997]  \n",
      "Epoch 8/10 [Validation]: 100%|██████████| 338/338 [10:06<00:00,  1.80s/it, loss=0.00861] \n"
     ]
    },
    {
     "name": "stdout",
     "output_type": "stream",
     "text": [
      "Epoch 8/10 - Train Loss: 0.0037, Train Acc: 99.90%, Val Loss: 0.0062, Val Acc: 99.83%\n"
     ]
    },
    {
     "name": "stderr",
     "output_type": "stream",
     "text": [
      "Epoch 9/10 [Training]: 100%|██████████| 1684/1684 [1:19:37<00:00,  2.84s/it, loss=0.000117]\n",
      "Epoch 9/10 [Validation]: 100%|██████████| 338/338 [09:50<00:00,  1.75s/it, loss=0.00257] \n"
     ]
    },
    {
     "name": "stdout",
     "output_type": "stream",
     "text": [
      "Epoch 9/10 - Train Loss: 0.0040, Train Acc: 99.89%, Val Loss: 0.0016, Val Acc: 99.97%\n",
      "Model saved successfully as resnet50_best.pth\n"
     ]
    },
    {
     "name": "stderr",
     "output_type": "stream",
     "text": [
      "Epoch 10/10 [Training]: 100%|██████████| 1684/1684 [1:22:52<00:00,  2.95s/it, loss=3.5e-5]  \n",
      "Epoch 10/10 [Validation]: 100%|██████████| 338/338 [09:30<00:00,  1.69s/it, loss=0.0115]  "
     ]
    },
    {
     "name": "stdout",
     "output_type": "stream",
     "text": [
      "Epoch 10/10 - Train Loss: 0.0030, Train Acc: 99.93%, Val Loss: 0.0044, Val Acc: 99.86%\n",
      "\n",
      "=== Performance Metrics ===\n",
      "Precision: 0.9986\n",
      "Recall:    0.9986\n",
      "F1 Score:  0.9986\n"
     ]
    },
    {
     "name": "stderr",
     "output_type": "stream",
     "text": [
      "\n"
     ]
    },
    {
     "data": {
      "image/png": "[encoded data removed]",
      "text/plain": [
       "<Figure size 800x500 with 1 Axes>"
      ]
     },
     "metadata": {},
     "output_type": "display_data"
    },
    {
     "data": {
      "image/png": "[encoded data removed]",
      "text/plain": [
       "<Figure size 640x480 with 2 Axes>"
      ]
     },
     "metadata": {},
     "output_type": "display_data"
    }
   ],
   "source": [
    "import os\n",
    "import torch\n",
    "import librosa\n",
    "import numpy as np\n",
    "import torch.nn as nn\n",
    "import torch.optim as optim\n",
    "import torchvision.models as models\n",
    "import matplotlib.pyplot as plt\n",
    "import seaborn as sns\n",
    "from tqdm import tqdm\n",
    "from sklearn.metrics import confusion_matrix, precision_recall_fscore_support\n",
    "from torch.utils.data import Dataset, DataLoader\n",
    "from torch.optim.lr_scheduler import ReduceLROnPlateau\n",
    "\n",
    "# Define constants\n",
    "SAMPLE_RATE = 16000\n",
    "N_MELS = 128\n",
    "FIXED_LENGTH = 256\n",
    "BATCH_SIZE = 32\n",
    "EPOCHS = 10\n",
    "PATIENCE = 5  # Early stopping patience\n",
    "\n",
    "# Custom Dataset\n",
    "class AudioDataset(Dataset):\n",
    "    def __init__(self, root_dir):\n",
    "        self.data = []\n",
    "        self.labels = []\n",
    "        self.root_dir = root_dir\n",
    "        self.classes = [\"real\", \"fake\"]\n",
    "\n",
    "        for label, class_name in enumerate(self.classes):\n",
    "            class_path = os.path.join(root_dir, class_name)\n",
    "            for file in os.listdir(class_path):\n",
    "                file_path = os.path.join(class_path, file)\n",
    "                self.data.append(file_path)\n",
    "                self.labels.append(label)\n",
    "\n",
    "    def __len__(self):\n",
    "        return len(self.data)\n",
    "\n",
    "    def __getitem__(self, idx):\n",
    "        file_path, label = self.data[idx], self.labels[idx]\n",
    "        try:\n",
    "            y, sr = librosa.load(file_path, sr=SAMPLE_RATE)\n",
    "            mel_spec = librosa.feature.melspectrogram(y=y, sr=sr, n_mels=N_MELS)\n",
    "            mel_spec = librosa.power_to_db(mel_spec, ref=np.max)\n",
    "\n",
    "            # Ensure the spectrogram has a fixed shape (128, 256)\n",
    "            mel_spec = np.pad(mel_spec, ((0, 0), (0, max(0, FIXED_LENGTH - mel_spec.shape[1]))), mode=\"constant\")[:, :FIXED_LENGTH]\n",
    "\n",
    "            # Normalize and convert to tensor\n",
    "            mel_spec = torch.tensor(mel_spec, dtype=torch.float32).unsqueeze(0)  # Shape: (1, 128, 256)\n",
    "            mel_spec = torch.cat([mel_spec] * 3, dim=0)  # Convert to 3 channels for ResNet\n",
    "\n",
    "            return mel_spec, torch.tensor(label, dtype=torch.long)\n",
    "        except:\n",
    "            return None\n",
    "\n",
    "# Custom collate function to skip None samples\n",
    "def collate_fn(batch):\n",
    "    batch = [b for b in batch if b is not None]\n",
    "    if len(batch) == 0:\n",
    "        return torch.empty(0), torch.empty(0)\n",
    "    return torch.utils.data.dataloader.default_collate(batch)\n",
    "\n",
    "# Load dataset\n",
    "train_dataset = AudioDataset(\"The Fake-or-Real Dataset /for-norm/for-norm/training\")\n",
    "val_dataset = AudioDataset(\"The Fake-or-Real Dataset /for-norm/for-norm/validation\")\n",
    "\n",
    "train_loader = DataLoader(train_dataset, batch_size=BATCH_SIZE, shuffle=True, collate_fn=collate_fn)\n",
    "val_loader = DataLoader(val_dataset, batch_size=BATCH_SIZE, shuffle=False, collate_fn=collate_fn)\n",
    "\n",
    "# Load Pretrained ResNet50 and Modify\n",
    "class PretrainedResNet(nn.Module):\n",
    "    def __init__(self, num_classes=2):\n",
    "        super(PretrainedResNet, self).__init__()\n",
    "        self.model = models.resnet50(pretrained=True)\n",
    "        self.model.conv1 = nn.Conv2d(3, 64, kernel_size=(7, 7), stride=2, padding=3, bias=False)\n",
    "        self.model.fc = nn.Linear(self.model.fc.in_features, num_classes)\n",
    "\n",
    "    def forward(self, x):\n",
    "        return self.model(x)\n",
    "\n",
    "# Initialize model, loss, and optimizer\n",
    "device = torch.device(\"cuda\" if torch.cuda.is_available() else \"cpu\")\n",
    "model = PretrainedResNet().to(device)\n",
    "criterion = nn.CrossEntropyLoss()\n",
    "optimizer = optim.Adam(model.parameters(), lr=0.0001, weight_decay=1e-4)\n",
    "scheduler = ReduceLROnPlateau(optimizer, mode='min', factor=0.5, patience=3)\n",
    "\n",
    "# Training with Early Stopping\n",
    "best_val_loss = float(\"inf\")\n",
    "patience_counter = 0\n",
    "train_losses, val_losses = [], []\n",
    "\n",
    "for epoch in range(EPOCHS):\n",
    "    model.train()\n",
    "    running_loss, correct, total = 0.0, 0, 0\n",
    "\n",
    "    train_bar = tqdm(train_loader, desc=f\"Epoch {epoch+1}/{EPOCHS} [Training]\")  # Progress bar\n",
    "    for inputs, labels in train_bar:\n",
    "        inputs, labels = inputs.to(device), labels.to(device)\n",
    "        optimizer.zero_grad()\n",
    "        outputs = model(inputs)\n",
    "        loss = criterion(outputs, labels)\n",
    "        loss.backward()\n",
    "        optimizer.step()\n",
    "\n",
    "        running_loss += loss.item() * inputs.size(0)\n",
    "        correct += (outputs.argmax(dim=1) == labels).sum().item()\n",
    "        total += labels.size(0)\n",
    "\n",
    "        train_bar.set_postfix(loss=loss.item())\n",
    "\n",
    "    train_loss = running_loss / total\n",
    "    train_acc = correct / total\n",
    "    train_losses.append(train_loss)\n",
    "\n",
    "    # Validation\n",
    "    model.eval()\n",
    "    val_loss, val_correct, val_total = 0.0, 0, 0\n",
    "    all_preds, all_labels = [], []\n",
    "\n",
    "    val_bar = tqdm(val_loader, desc=f\"Epoch {epoch+1}/{EPOCHS} [Validation]\")  # Progress bar\n",
    "    with torch.no_grad():\n",
    "        for inputs, labels in val_bar:\n",
    "            inputs, labels = inputs.to(device), labels.to(device)\n",
    "            outputs = model(inputs)\n",
    "            loss = criterion(outputs, labels)\n",
    "\n",
    "            val_loss += loss.item() * inputs.size(0)\n",
    "            val_correct += (outputs.argmax(dim=1) == labels).sum().item()\n",
    "            val_total += labels.size(0)\n",
    "\n",
    "            all_preds.extend(outputs.argmax(dim=1).cpu().numpy())\n",
    "            all_labels.extend(labels.cpu().numpy())\n",
    "\n",
    "            val_bar.set_postfix(loss=loss.item())\n",
    "\n",
    "    val_loss /= val_total\n",
    "    val_acc = val_correct / val_total\n",
    "    val_losses.append(val_loss)\n",
    "\n",
    "    print(f\"Epoch {epoch+1}/{EPOCHS} - Train Loss: {train_loss:.4f}, Train Acc: {train_acc*100:.2f}%, Val Loss: {val_loss:.4f}, Val Acc: {val_acc*100:.2f}%\")\n",
    "\n",
    "    if val_loss < best_val_loss:\n",
    "        best_val_loss = val_loss\n",
    "        patience_counter = 0\n",
    "\n",
    "        # Save the best model\n",
    "        torch.save(model.state_dict(), \"resnet50_best.pth\")\n",
    "        print(\"Model saved successfully as resnet50_best.pth\")\n",
    "\n",
    "    else:\n",
    "        patience_counter += 1\n",
    "        if patience_counter >= PATIENCE:\n",
    "            print(\"Early stopping triggered.\")\n",
    "            break\n",
    "\n",
    "    scheduler.step(val_loss)\n",
    "\n",
    "# Compute Precision, Recall, and F1-score\n",
    "precision, recall, f1, _ = precision_recall_fscore_support(all_labels, all_preds, average=\"weighted\")\n",
    "\n",
    "# Print Metrics\n",
    "print(\"\\n=== Performance Metrics ===\")\n",
    "print(f\"Precision: {precision:.4f}\")\n",
    "print(f\"Recall:    {recall:.4f}\")\n",
    "print(f\"F1 Score:  {f1:.4f}\")\n",
    "\n",
    "# Plot Training vs Validation Loss\n",
    "plt.figure(figsize=(8, 5))\n",
    "plt.plot(train_losses, label=\"Train Loss\", marker='o')\n",
    "plt.plot(val_losses, label=\"Val Loss\", marker='o')\n",
    "plt.xlabel(\"Epochs\")\n",
    "plt.ylabel(\"Loss\")\n",
    "plt.legend()\n",
    "plt.title(\"Training vs Validation Loss\")\n",
    "plt.grid()\n",
    "plt.show()\n",
    "\n",
    "# Confusion Matrix\n",
    "conf_mat = confusion_matrix(all_labels, all_preds)\n",
    "sns.heatmap(conf_mat, annot=True, fmt=\"d\", cmap=\"Blues\", xticklabels=[\"Real\", \"Fake\"], yticklabels=[\"Real\", \"Fake\"])\n",
    "plt.xlabel(\"Predicted\")\n",
    "plt.ylabel(\"Actual\")\n",
    "plt.title(\"Confusion Matrix\")\n",
    "plt.show()"
   ]
  },
  {
   "cell_type": "markdown",
   "metadata": {},
   "source": [
    "Testing"
   ]
  },
  {
   "cell_type": "code",
   "execution_count": 68,
   "metadata": {},
   "outputs": [
    {
     "name": "stderr",
     "output_type": "stream",
     "text": [
      "/opt/homebrew/anaconda3/envs/myenv/lib/python3.11/site-packages/torchvision/models/_utils.py:208: UserWarning: The parameter 'pretrained' is deprecated since 0.13 and may be removed in the future, please use 'weights' instead.\n",
      "  warnings.warn(\n",
      "/opt/homebrew/anaconda3/envs/myenv/lib/python3.11/site-packages/torchvision/models/_utils.py:223: UserWarning: Arguments other than a weight enum or `None` for 'weights' are deprecated since 0.13 and may be removed in the future. The current behavior is equivalent to passing `weights=None`.\n",
      "  warnings.warn(msg)\n",
      "Testing Model: 100%|██████████| 145/145 [04:03<00:00,  1.68s/it]"
     ]
    },
    {
     "name": "stdout",
     "output_type": "stream",
     "text": [
      "\n",
      "=== Performance Metrics ===\n",
      "Accuracy:  0.5227\n",
      "Precision: 1.0000\n",
      "Recall:    0.0667\n",
      "F1 Score:  0.1250\n"
     ]
    },
    {
     "name": "stderr",
     "output_type": "stream",
     "text": [
      "\n"
     ]
    },
    {
     "data": {
      "image/png": "[encoded data removed]",
      "text/plain": [
       "<Figure size 640x480 with 2 Axes>"
      ]
     },
     "metadata": {},
     "output_type": "display_data"
    }
   ],
   "source": [
    "import os\n",
    "import torch\n",
    "import librosa\n",
    "import numpy as np\n",
    "import torch.nn as nn\n",
    "import torchvision.models as models\n",
    "import matplotlib.pyplot as plt\n",
    "import seaborn as sns\n",
    "from tqdm import tqdm\n",
    "from sklearn.metrics import accuracy_score, confusion_matrix, precision_recall_fscore_support\n",
    "from torch.utils.data import Dataset, DataLoader\n",
    "\n",
    "# Define constants\n",
    "SAMPLE_RATE = 16000\n",
    "N_MELS = 128\n",
    "FIXED_LENGTH = 256\n",
    "BATCH_SIZE = 32\n",
    "\n",
    "# Custom Dataset for Testing\n",
    "class AudioDataset(Dataset):\n",
    "    def __init__(self, root_dir):\n",
    "        self.data = []\n",
    "        self.labels = []\n",
    "        self.root_dir = root_dir\n",
    "        self.classes = [\"real\", \"fake\"]\n",
    "\n",
    "        for label, class_name in enumerate(self.classes):\n",
    "            class_path = os.path.join(root_dir, class_name)\n",
    "            for file in os.listdir(class_path):\n",
    "                file_path = os.path.join(class_path, file)\n",
    "                self.data.append(file_path)\n",
    "                self.labels.append(label)\n",
    "\n",
    "    def __len__(self):\n",
    "        return len(self.data)\n",
    "\n",
    "    def __getitem__(self, idx):\n",
    "        file_path, label = self.data[idx], self.labels[idx]\n",
    "        try:\n",
    "            y, sr = librosa.load(file_path, sr=SAMPLE_RATE)\n",
    "            mel_spec = librosa.feature.melspectrogram(y=y, sr=sr, n_mels=N_MELS)\n",
    "            mel_spec = librosa.power_to_db(mel_spec, ref=np.max)\n",
    "\n",
    "            # Ensure the spectrogram has a fixed shape (128, 256)\n",
    "            mel_spec = np.pad(mel_spec, ((0, 0), (0, max(0, FIXED_LENGTH - mel_spec.shape[1]))), mode=\"constant\")[:, :FIXED_LENGTH]\n",
    "\n",
    "            # Normalize and convert to tensor\n",
    "            mel_spec = torch.tensor(mel_spec, dtype=torch.float32).unsqueeze(0)  # Shape: (1, 128, 256)\n",
    "            mel_spec = torch.cat([mel_spec] * 3, dim=0)  # Convert to 3 channels for ResNet\n",
    "\n",
    "            return mel_spec, torch.tensor(label, dtype=torch.long)\n",
    "        except:\n",
    "            return None\n",
    "\n",
    "# Custom collate function to skip None samples\n",
    "def collate_fn(batch):\n",
    "    batch = [b for b in batch if b is not None]\n",
    "    if len(batch) == 0:\n",
    "        return torch.empty(0), torch.empty(0)\n",
    "    return torch.utils.data.dataloader.default_collate(batch)\n",
    "\n",
    "# Load test dataset\n",
    "test_dataset = AudioDataset(\"The Fake-or-Real Dataset /for-norm/for-norm/testing\")\n",
    "test_loader = DataLoader(test_dataset, batch_size=BATCH_SIZE, shuffle=False, collate_fn=collate_fn)\n",
    "\n",
    "# Load Pretrained ResNet50 Model\n",
    "class PretrainedResNet(nn.Module):\n",
    "    def __init__(self, num_classes=2):\n",
    "        super(PretrainedResNet, self).__init__()\n",
    "        self.model = models.resnet50(pretrained=False)  # pretrained=False since we are loading saved weights\n",
    "        self.model.conv1 = nn.Conv2d(3, 64, kernel_size=(7, 7), stride=2, padding=3, bias=False)\n",
    "        self.model.fc = nn.Linear(self.model.fc.in_features, num_classes)\n",
    "\n",
    "    def forward(self, x):\n",
    "        return self.model(x)\n",
    "\n",
    "# Load trained model\n",
    "device = torch.device(\"cuda\" if torch.cuda.is_available() else \"cpu\")\n",
    "model = PretrainedResNet().to(device)\n",
    "model.load_state_dict(torch.load(\"resnet50_best.pth\"))\n",
    "model.eval()\n",
    "\n",
    "# Testing Loop\n",
    "test_preds, test_labels = [], []\n",
    "test_bar = tqdm(test_loader, desc=\"Testing Model\")\n",
    "\n",
    "with torch.no_grad():\n",
    "    for inputs, labels in test_bar:\n",
    "        inputs, labels = inputs.to(device), labels.to(device)\n",
    "        outputs = model(inputs)\n",
    "        preds = outputs.argmax(dim=1)\n",
    "\n",
    "        test_preds.extend(preds.cpu().numpy())\n",
    "        test_labels.extend(labels.cpu().numpy())\n",
    "\n",
    "# Compute Metrics\n",
    "accuracy = accuracy_score(test_labels, test_preds)\n",
    "precision, recall, f1, _ = precision_recall_fscore_support(test_labels, test_preds, average=\"binary\")\n",
    "\n",
    "print(\"\\n=== Performance Metrics ===\")\n",
    "print(f\"Accuracy:  {accuracy:.4f}\")\n",
    "print(f\"Precision: {precision:.4f}\")\n",
    "print(f\"Recall:    {recall:.4f}\")\n",
    "print(f\"F1 Score:  {f1:.4f}\")\n",
    "\n",
    "# Confusion Matrix\n",
    "conf_mat = confusion_matrix(test_labels, test_preds)\n",
    "sns.heatmap(conf_mat, annot=True, fmt=\"d\", cmap=\"Blues\", xticklabels=[\"Real\", \"Fake\"], yticklabels=[\"Real\", \"Fake\"])\n",
    "plt.xlabel(\"Predicted\")\n",
    "plt.ylabel(\"Actual\")\n",
    "plt.title(\"Confusion Matrix\")\n",
    "plt.show()\n"
   ]
  }
 ],
 "metadata": {
  "kernelspec": {
   "display_name": "myenv",
   "language": "python",
   "name": "python3"
  },
  "language_info": {
   "codemirror_mode": {
    "name": "ipython",
    "version": 3
   },
   "file_extension": ".py",
   "mimetype": "text/x-python",
   "name": "python",
   "nbconvert_exporter": "python",
   "pygments_lexer": "ipython3",
   "version": "3.11.8"
  }
 },
 "nbformat": 4,
 "nbformat_minor": 2
}
